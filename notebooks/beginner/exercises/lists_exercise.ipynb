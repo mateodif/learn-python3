{
 "cells": [
  {
   "cell_type": "markdown",
   "metadata": {},
   "source": [
    "# 1. Llenen los espacios\n",
    "Llenen las partes `____` del codigo de abajo."
   ]
  },
  {
   "cell_type": "code",
   "execution_count": null,
   "metadata": {},
   "outputs": [],
   "source": [
    "# Vamos a crear una lista vacia\n",
    "mi_lista = ____\n",
    "\n",
    "# Vamos a añadir algunos valores\n",
    "mi_lista.____('Python')\n",
    "mi_lista.____('esta bueno')\n",
    "mi_lista.____('a veces')\n",
    "\n",
    "# Vamos a sacar 'a veces'\n",
    "mi_lista.____('a veces')\n",
    "\n",
    "# Cambiemos el segundo item\n",
    "mi_lista[____] = 'es interesante'"
   ]
  },
  {
   "cell_type": "code",
   "execution_count": null,
   "metadata": {
    "editable": false
   },
   "outputs": [],
   "source": [
    "# Verificamos que lo hayamos hecho bien\n",
    "assert mi_lista == ['Python', 'es interesante']"
   ]
  },
  {
   "cell_type": "markdown",
   "metadata": {},
   "source": [
    "# 2. Creen una nueva lista sin modificar la original\n"
   ]
  },
  {
   "cell_type": "code",
   "execution_count": null,
   "metadata": {
    "editable": false
   },
   "outputs": [],
   "source": [
    "original = ['Estoy', 'aprendiendo', 'a', 'hackear', 'en']"
   ]
  },
  {
   "cell_type": "code",
   "execution_count": null,
   "metadata": {},
   "outputs": [],
   "source": [
    "# Tu implementacion aca\n",
    "modificado = "
   ]
  },
  {
   "cell_type": "code",
   "execution_count": null,
   "metadata": {
    "editable": false
   },
   "outputs": [],
   "source": [
    "assert original == ['Estoy', 'aprendiendo', 'a', 'hackear', 'en']\n",
    "assert modificado == ['Estoy', 'aprendiendo', 'a', 'hackear', 'en', 'Python']"
   ]
  },
  {
   "cell_type": "markdown",
   "metadata": {},
   "source": [
    "# 3. Creen una lista combinada y ordenada"
   ]
  },
  {
   "cell_type": "code",
   "execution_count": null,
   "metadata": {
    "editable": false
   },
   "outputs": [],
   "source": [
    "lista1 = [6, 12, 5]\n",
    "lista2 = [6.2, 0, 14, 1]\n",
    "lista3 = [0.9]"
   ]
  },
  {
   "cell_type": "code",
   "execution_count": null,
   "metadata": {},
   "outputs": [],
   "source": [
    "# Tu implementacion aca\n",
    "mi_lista = "
   ]
  },
  {
   "cell_type": "code",
   "execution_count": null,
   "metadata": {
    "editable": false,
    "scrolled": true
   },
   "outputs": [],
   "source": [
    "print(mi_lista)\n",
    "assert mi_lista == [14, 12, 6.2, 6, 5, 1, 0.9, 0]"
   ]
  }
 ],
 "metadata": {
  "kernelspec": {
   "display_name": "Python 3",
   "language": "python",
   "name": "python3"
  },
  "language_info": {
   "codemirror_mode": {
    "name": "ipython",
    "version": 3
   },
   "file_extension": ".py",
   "mimetype": "text/x-python",
   "name": "python",
   "nbconvert_exporter": "python",
   "pygments_lexer": "ipython3",
   "version": "3.5.4"
  }
 },
 "nbformat": 4,
 "nbformat_minor": 2
}
