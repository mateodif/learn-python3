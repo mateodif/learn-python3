{
 "cells": [
  {
   "cell_type": "markdown",
   "metadata": {},
   "source": [
    "# 1. Llenen las piezas faltantes de la funcion `contar_numeros_pares`\n",
    "Llenen los espacios `____` de la implentacion de `contar_numeros_pares` para pasar las pruebas. Pueden asumir que el argumento `numeros` es una lista de ints."
   ]
  },
  {
   "cell_type": "code",
   "execution_count": null,
   "metadata": {},
   "outputs": [],
   "source": [
    "____ contar_numeros_pares(numeros):\n",
    "    cuenta = 0\n",
    "    for num in ____:\n",
    "        if ____ % 2 == ____:\n",
    "            cuenta += ____\n",
    "    _____ _____"
   ]
  },
  {
   "cell_type": "code",
   "execution_count": null,
   "metadata": {
    "editable": false
   },
   "outputs": [],
   "source": [
    "assert contar_numeros_pares([1, 2, 3, 4, 5, 6]) == 3\n",
    "assert contar_numeros_pares([1, 3, 5, 7]) == 0\n",
    "assert contar_numeros_pares([-2, 2, -10, 8]) == 4"
   ]
  },
  {
   "cell_type": "markdown",
   "metadata": {},
   "source": [
    "# 2. Capturando personas buscadas\n",
    "Implementen la funcion `capturas_personas_buscadas` que tome una lista de nombres (strings) como argumento. La funcion debería devolver una lista de nombres que esten presentes tanto en `PERSONAS_BUSCADAS` y en la lista de nombres que fue dada como argumento a la funcion."
   ]
  },
  {
   "cell_type": "code",
   "execution_count": null,
   "metadata": {
    "editable": false
   },
   "outputs": [],
   "source": [
    "PERSONAS_BUSCADAS = ['John Doe', 'Clint Eastwood', 'Chuck Norris']"
   ]
  },
  {
   "cell_type": "code",
   "execution_count": null,
   "metadata": {},
   "outputs": [],
   "source": [
    "# Tu implementacion aca"
   ]
  },
  {
   "cell_type": "code",
   "execution_count": null,
   "metadata": {
    "editable": false
   },
   "outputs": [],
   "source": [
    "personas_a_verificar = ['Donald Duck', 'Clint Eastwood', 'John Doe', 'Barack Obama']\n",
    "buscadas1 = capturas_personas_buscadas(personas_a_verificar)\n",
    "assert len(buscadas1) == 2\n",
    "assert 'John Doe' in buscadas1\n",
    "assert 'Clint Eastwood'in buscadas1\n",
    "\n",
    "personas_a_verificar2 = ['Donald Duck', 'Mickey Mouse', 'Zorro', 'Superman', 'Robin Hood']\n",
    "buscadas2 = capturas_personas_buscadas(personas_a_verificar2)\n",
    "assert buscadas2 == []"
   ]
  },
  {
   "cell_type": "markdown",
   "metadata": {},
   "source": [
    "# 3. Encontrar la longitud promedio de las palabras en una oracion\n",
    "Crear una funcion `longitud_promedio_de_palabras` que tome un string como argumento y devuelva la longitud promedio de las palabras en el string. Pueden asumir que hay un solo espacio entre cada palabra y que la entrada no tiene ninguna puntuacion. El resultado debería ser redondeado a un decimal (pista: vean [`round`](https://docs.python.org/3/library/functions.html#round))."
   ]
  },
  {
   "cell_type": "code",
   "execution_count": null,
   "metadata": {},
   "outputs": [],
   "source": [
    "# Tu implementacion aca"
   ]
  },
  {
   "cell_type": "code",
   "execution_count": null,
   "metadata": {
    "editable": false
   },
   "outputs": [],
   "source": [
    "assert longitud_promedio_de_palabras('solo cuat ropa labr asss') == 4\n",
    "assert longitud_promedio_de_palabras('uno dos tres') == 3.3\n",
    "assert longitud_promedio_de_palabras('uno dos tres cuatro cinco') == 4.2\n",
    "assert longitud_promedio_de_palabras('') == 0"
   ]
  }
 ],
 "metadata": {
  "kernelspec": {
   "display_name": "Python 3",
   "language": "python",
   "name": "python3"
  },
  "language_info": {
   "codemirror_mode": {
    "name": "ipython",
    "version": 3
   },
   "file_extension": ".py",
   "mimetype": "text/x-python",
   "name": "python",
   "nbconvert_exporter": "python",
   "pygments_lexer": "ipython3",
   "version": "3.5.4"
  }
 },
 "nbformat": 4,
 "nbformat_minor": 2
}
