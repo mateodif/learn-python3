{
 "cells": [
  {
   "cell_type": "markdown",
   "metadata": {},
   "source": [
    "# 1. Llenen las partes faltantes de la clase `Calculadora`\n",
    "Llenen los pedazos `____` de la implementacion de `Calculadora` para pasar las pruebas."
   ]
  },
  {
   "cell_type": "code",
   "execution_count": null,
   "metadata": {},
   "outputs": [],
   "source": [
    "class Calculadora:\n",
    "    def __init__(self, var1, ____):\n",
    "        self.____ = var1\n",
    "        self.____ = _____\n",
    "    \n",
    "    def calcular_potencia(self):\n",
    "        return self.____ ** ____.____\n",
    "    \n",
    "    def calcular_suma(____, var3):\n",
    "        return ____.____ + ____.____ + var3"
   ]
  },
  {
   "cell_type": "code",
   "execution_count": null,
   "metadata": {
    "editable": false
   },
   "outputs": [],
   "source": [
    "calc = Calculadora(2, 3)\n",
    "assert calc.calcular_potencia() == 8\n",
    "assert calc.calcular_suma(4) == 9"
   ]
  },
  {
   "cell_type": "markdown",
   "metadata": {},
   "source": [
    "# 2. Finalicen la clase `ManipuladorString`\n",
    "Llenen los pedazos `____` y creen una implementacion para `titulo_desnudo()`."
   ]
  },
  {
   "cell_type": "code",
   "execution_count": null,
   "metadata": {},
   "outputs": [],
   "source": [
    "class ManipuladorString:\n",
    "    \"\"\"____\"\"\"\n",
    "    \n",
    "    categoria = ____\n",
    "    \n",
    "    def __init__(self, original):\n",
    "        self.string = ____\n",
    "        \n",
    "    def invertir_palabras(self):\n",
    "        palabras = self.string.____\n",
    "        self.string = ' '.join(reversed(____))\n",
    "        \n",
    "    def hacer_titulo(self):\n",
    "        # Crear una implementacion para esto\n",
    "        \n",
    "    def obtener_manipulado(____):\n",
    "        return self._____"
   ]
  },
  {
   "cell_type": "code",
   "execution_count": null,
   "metadata": {
    "editable": false
   },
   "outputs": [],
   "source": [
    "assert ManipuladorString.__doc__ == 'Docstring de ManipuladorString'\n",
    "assert ManipuladorString.categoria == 'Manipulador'\n",
    "\n",
    "manip_str = ManipuladorString('geNIaL pYtHOn')\n",
    "\n",
    "manip_str.invertir_palabras()\n",
    "assert manip_str.obtener_manipulado() == 'pYtHOn geNIaL'\n",
    "\n",
    "manip_str.hacer_titulo()\n",
    "assert manip_str.obtener_manipulado() == 'Python Genial'"
   ]
  },
  {
   "cell_type": "markdown",
   "metadata": {},
   "source": [
    "# 3. Crear la clase `Perro`\n",
    "Crear la clase `Perro` que tiene las siguientes caracteristicas:\n",
    "* Perros consumen su energia ladrando y la ganan durmiendo\n",
    "* Una instancia `Perro` fresca tiene 10 unidades de energia\n",
    "* `Perro` tiene un metodo `dormir` que le da 2 unidades de energia\n",
    "* `Perro` tiene un metodo `ladrar` que consume 1 unidad de energia\n",
    "* `Perro` tiene un metodo `obtener_energia` que devuelve la cantidad de energia sobrante "
   ]
  },
  {
   "cell_type": "code",
   "execution_count": null,
   "metadata": {},
   "outputs": [],
   "source": [
    "class Perro:\n",
    "    # Tu implementacion aca"
   ]
  },
  {
   "cell_type": "code",
   "execution_count": null,
   "metadata": {
    "editable": false
   },
   "outputs": [],
   "source": [
    "perrete = Perro()\n",
    "assert perrete.obtener_energia() == 10\n",
    "\n",
    "perrete.ladrar()\n",
    "perrete.ladrar()\n",
    "perrete.ladrar()\n",
    "assert perrete.obtener_energia() == 7\n",
    "\n",
    "perrete.dormir()\n",
    "assert perrete.obtener_energia() == 9\n",
    "\n",
    "otro_perrete = Perro()\n",
    "assert otro_perrete.obtener_energia() == 10"
   ]
  }
 ],
 "metadata": {
  "kernelspec": {
   "display_name": "Python 3",
   "language": "python",
   "name": "python3"
  },
  "language_info": {
   "codemirror_mode": {
    "name": "ipython",
    "version": 3
   },
   "file_extension": ".py",
   "mimetype": "text/x-python",
   "name": "python",
   "nbconvert_exporter": "python",
   "pygments_lexer": "ipython3",
   "version": "3.5.4"
  }
 },
 "nbformat": 4,
 "nbformat_minor": 2
}
