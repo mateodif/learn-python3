{
 "cells": [
  {
   "cell_type": "markdown",
   "metadata": {},
   "source": [
    "# 1. `if-elif-else`\n",
    "Llenar los espacios faltantes (`____`) del siguiente codigo de manera que tenga sentido."
   ]
  },
  {
   "cell_type": "code",
   "execution_count": null,
   "metadata": {
    "editable": false
   },
   "outputs": [],
   "source": [
    "nombre = 'John Doe'"
   ]
  },
  {
   "cell_type": "code",
   "execution_count": null,
   "metadata": {},
   "outputs": [],
   "source": [
    "if ____:\n",
    "    print('Nombre \"{}\" tiene mas de 20 caracteres de largo'.format(nombre))\n",
    "    descripcion_largo = 'largo'\n",
    "elif ____:\n",
    "    print('Nombre \"{}\" tiene mas de 15 caracteres de largo'.format(nombre))\n",
    "    descripcion_largo = 'semi largo'\n",
    "elif ____:\n",
    "    print('Nombre \"{}\" tiene mas de 10 caracteres de largo'.format(nombre))\n",
    "    descripcion_largo = 'semi largo'\n",
    "elif ____:\n",
    "    print('Nombre \"{}\" tiene 8, 9 o 10 caracteres de largo'.format(nombre))\n",
    "    descripcion_largo = 'semi corto'\n",
    "else:\n",
    "    print('Nombre \"{}\" es un nombre corto'.format(nombre))\n",
    "    descripcion_largo = 'corto'"
   ]
  },
  {
   "cell_type": "code",
   "execution_count": null,
   "metadata": {
    "editable": false
   },
   "outputs": [],
   "source": [
    "assert descripcion_largo == 'semi corto'"
   ]
  }
 ],
 "metadata": {
  "kernelspec": {
   "display_name": "Python 3",
   "language": "python",
   "name": "python3"
  },
  "language_info": {
   "codemirror_mode": {
    "name": "ipython",
    "version": 3
   },
   "file_extension": ".py",
   "mimetype": "text/x-python",
   "name": "python",
   "nbconvert_exporter": "python",
   "pygments_lexer": "ipython3",
   "version": "3.5.4"
  }
 },
 "nbformat": 4,
 "nbformat_minor": 2
}
