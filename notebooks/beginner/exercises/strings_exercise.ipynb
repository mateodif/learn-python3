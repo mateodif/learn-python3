{
 "cells": [
  {
   "cell_type": "markdown",
   "metadata": {},
   "source": [
    "# 1. Llenen los espacios\n",
    "Llenen los espacios `____` abajo para que tengan los valores correctos para `en_minuscula`, `desnudo` and `desnudo_lower_case` variables."
   ]
  },
  {
   "cell_type": "code",
   "execution_count": null,
   "metadata": {},
   "outputs": [],
   "source": [
    "original = ' Los strings de Python son GENIALES! '\n",
    "en_minuscula = original._____\n",
    "desnudo = ____.strip()\n",
    "desnudo_en_minuscula = original._____._____"
   ]
  },
  {
   "cell_type": "markdown",
   "metadata": {},
   "source": [
    "Vamos a verificar que la implementación es correcta ejecutando las celdas de abajo. `assert` va a lanzar un error `AssertionError` si la declaración no es verdadera.  "
   ]
  },
  {
   "cell_type": "code",
   "execution_count": null,
   "metadata": {
    "editable": false
   },
   "outputs": [],
   "source": [
    "assert en_minuscula == ' los strings de python son geniales! '\n",
    "assert desnudo == 'Los strings de Python son GENIALES!'\n",
    "assert desnudo_en_minuscula == 'los strings de python son geniales!'"
   ]
  },
  {
   "cell_type": "markdown",
   "metadata": {},
   "source": [
    "# 2. Mejoren los strings feos\n",
    "Usen el metodo `str` para convertir strings `feos` en `lindos`."
   ]
  },
  {
   "cell_type": "code",
   "execution_count": null,
   "metadata": {
    "editable": false
   },
   "outputs": [],
   "source": [
    "feo = ' tiTuLo de MI nuEvo Libro\\n\\n'"
   ]
  },
  {
   "cell_type": "code",
   "execution_count": null,
   "metadata": {},
   "outputs": [],
   "source": [
    "# Tu implementacion:\n",
    "lindo = 'TODO'"
   ]
  },
  {
   "cell_type": "markdown",
   "metadata": {},
   "source": [
    "Vamos a asegurarnos que hace lo que queremos. `assert` levanta el error [`AssertionError`](https://docs.python.org/3/library/exceptions.html#AssertionError) si la declaración no es `True`."
   ]
  },
  {
   "cell_type": "code",
   "execution_count": null,
   "metadata": {
    "editable": false
   },
   "outputs": [],
   "source": [
    "print('lindo: {}'.format(lindo))\n",
    "assert lindo == 'Titulo De Mi Nuevo Libro'"
   ]
  },
  {
   "cell_type": "markdown",
   "metadata": {},
   "source": [
    "# 3. Formateen el string con las variables existentes\n",
    "Creen `oracion` usando `verbo`, `lenguaje`, y `puntuacion` y cualquier otro string que necesiten."
   ]
  },
  {
   "cell_type": "code",
   "execution_count": null,
   "metadata": {
    "editable": false
   },
   "outputs": [],
   "source": [
    "verbo = 'es'\n",
    "lenguaje = 'Python'\n",
    "puntuacion = '!'"
   ]
  },
  {
   "cell_type": "code",
   "execution_count": null,
   "metadata": {},
   "outputs": [],
   "source": [
    "# Tu implementacion:\n",
    "oracion = 'TODO'"
   ]
  },
  {
   "cell_type": "code",
   "execution_count": null,
   "metadata": {
    "editable": false
   },
   "outputs": [],
   "source": [
    "print('oracion: {}'.format(oracion))\n",
    "assert oracion == 'Aprender Python es divertido!'"
   ]
  }
 ],
 "metadata": {
  "kernelspec": {
   "display_name": "Python 3",
   "lenguaje": "python",
   "name": "python3"
  },
  "lenguaje_info": {
   "codemirror_mode": {
    "name": "ipython",
    "version": 3
   },
   "file_extension": ".py",
   "mimetype": "text/x-python",
   "name": "python",
   "nbconvert_exporter": "python",
   "pygments_lexer": "ipython3",
   "version": "3.5.4"
  }
 },
 "nbformat": 4,
 "nbformat_minor": 1
}
