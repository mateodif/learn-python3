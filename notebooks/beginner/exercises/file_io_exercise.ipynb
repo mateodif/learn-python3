{
 "cells": [
  {
   "cell_type": "code",
   "execution_count": null,
   "metadata": {
    "editable": false
   },
   "outputs": [],
   "source": [
    "# EJECUTEN ESTO PRIMERO!\n",
    "\n",
    "import os\n",
    "\n",
    "# Constantes para los ejercicios:\n",
    "DIR_TRABAJO = os.getcwd()\n",
    "DIR_DATA = os.path.join(os.path.dirname(DIR_TRABAJO), 'data')"
   ]
  },
  {
   "cell_type": "markdown",
   "metadata": {},
   "source": [
    "# 1. Sumen numeros listados en un archivo\n",
    "Llenen los pedazos ____ faltantes de codigo abajo. La funcion `sumar_numeros_en_archivo` toma una ruta de archivo como argumento, lee los numeros listados en el archivo de entrada y devuelve la suma de esos numeros. Pueden asumir que cada lineaa contiene solo un numero."
   ]
  },
  {
   "cell_type": "code",
   "execution_count": null,
   "metadata": {},
   "outputs": [],
   "source": [
    "def sumar_numeros_en_archivo(archivo_entrada):\n",
    "    sum_ = 0  # Una forma comun de usar nombres de variables que hacen conflicto con las palabras claves por defecto es aniadiendo un guion bajo\n",
    "    with ____(archivo_entrada, ____) as ____:\n",
    "        for linea in ____:\n",
    "            ____ = linea.strip()  # Borramos espacios blancos por las dudas \n",
    "            ____ += float(____)\n",
    "    return ____"
   ]
  },
  {
   "cell_type": "code",
   "execution_count": null,
   "metadata": {
    "editable": false
   },
   "outputs": [],
   "source": [
    "archivo_entr = os.path.join(DIR_DATA, 'numeros.txt')\n",
    "assert sumar_numeros_en_archivo(archivo_entr) == 189.5"
   ]
  },
  {
   "cell_type": "markdown",
   "metadata": {},
   "source": [
    "# 2. Leer primera palabra de cada linea de un archivo.\n",
    "Implementen la funcion `encontrar_primer_palabra` que toma una ruta de un archivo como argumento. La funcion debería encontrar la primera palabra de cada linea en el archivo y devolverlas como una lista. Si la linea esta vacia, la lista retornada deberia contener un string vacio por esa linea."
   ]
  },
  {
   "cell_type": "code",
   "execution_count": null,
   "metadata": {},
   "outputs": [],
   "source": [
    "# Tu implementacion aca"
   ]
  },
  {
   "cell_type": "code",
   "execution_count": null,
   "metadata": {
    "editable": false
   },
   "outputs": [],
   "source": [
    "archivo_entr1 = os.path.join(DIR_DATA, 'archivo_simple.txt')\n",
    "archivo_entr2 = os.path.join(DIR_DATA, 'archivo_simple_con_lineas_vacias.txt')\n",
    "\n",
    "archivo_esperado_1 = ['Primer', 'Segunda', 'Tercera', 'Y']\n",
    "assert encontrar_primer_palabra(archivo_entr1) == archivo_esperado_1\n",
    "\n",
    "archivo_esperado_2 = ['El', '', 'Primer', 'palabras', '', 'Despues']\n",
    "assert encontrar_primer_palabra(archivo_entr2) == archivo_esperado_2"
   ]
  }
 ],
 "metadata": {
  "kernelspec": {
   "display_name": "Python 3",
   "language": "python",
   "name": "python3"
  },
  "language_info": {
   "codemirror_mode": {
    "name": "ipython",
    "version": 3
   },
   "file_extension": ".py",
   "mimetype": "text/x-python",
   "name": "python",
   "nbconvert_exporter": "python",
   "pygments_lexer": "ipython3",
   "version": "3.5.4"
  }
 },
 "nbformat": 4,
 "nbformat_minor": 2
}
