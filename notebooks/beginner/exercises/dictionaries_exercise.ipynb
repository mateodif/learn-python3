{
 "cells": [
  {
   "cell_type": "markdown",
   "metadata": {},
   "source": [
    "# 1. Popular diccionarios\n",
    "Crear un diccionario usando todas las variables dadas."
   ]
  },
  {
   "cell_type": "code",
   "execution_count": null,
   "metadata": {
    "editable": false
   },
   "outputs": [],
   "source": [
    "nombre = 'John'\n",
    "apellido = 'Doe'\n",
    "hobby_favorito = 'Python'\n",
    "hobby_deporte = 'gym'\n",
    "edad = 82"
   ]
  },
  {
   "cell_type": "code",
   "execution_count": null,
   "metadata": {},
   "outputs": [],
   "source": [
    "# Tu implementacion\n",
    "mi_dicc = "
   ]
  },
  {
   "cell_type": "code",
   "execution_count": null,
   "metadata": {
    "editable": false
   },
   "outputs": [],
   "source": [
    "assert mi_dicc == {\n",
    "        'nombre': 'John Doe',\n",
    "        'edad': 82,\n",
    "        'hobbies': ['Python', 'gym']\n",
    "    }"
   ]
  },
  {
   "cell_type": "markdown",
   "metadata": {},
   "source": [
    "# 2. Accediendo y combinando diccionarios\n",
    "Combinen `dicc1`, `dicc2`, y `dicc3` en `mi_dicc`. Además, pongan el valor de `llave_especial` de `mi_dicc` en la variable `valor_especial`. Noten que los diccionarios originales no deben ser modificados y `llave_especial` debería ser eliminada de `mi_dicc`."
   ]
  },
  {
   "cell_type": "code",
   "execution_count": null,
   "metadata": {
    "editable": false
   },
   "outputs": [],
   "source": [
    "dicc1 = dict(llave1='Esto no es tan dificil', llave2='Python sigue estando bueno')\n",
    "dicc2 = {'llave1': 123, 'llave_especial': 'secreto'}\n",
    "# Esta es otra forma de hacer un diccionario (lista de tuplas) \n",
    "dicc3 = dict([('llave2', 456), ('llaveX', 'X')])"
   ]
  },
  {
   "cell_type": "code",
   "execution_count": null,
   "metadata": {},
   "outputs": [],
   "source": [
    "# 'Tu implementacion'\n",
    "mi_dicc = \n",
    "valor_especial = "
   ]
  },
  {
   "cell_type": "code",
   "execution_count": null,
   "metadata": {
    "editable": false
   },
   "outputs": [],
   "source": [
    "assert mi_dicc == {'llave1': 123, 'llave2': 456, 'llaveX': 'X'}\n",
    "assert valor_especial == 'secreto'\n",
    "\n",
    "# Vamos a verificar que las originales no fueron modificadas...\n",
    "assert dicc1 == {\n",
    "        'llave1': 'Esto no es tan dificil',\n",
    "        'llave2': 'Python sigue estando bueno'\n",
    "    }\n",
    "assert dicc2 == {'llave1': 123, 'llave_especial': 'secreto'}\n",
    "assert dicc3 == {'llave2': 456, 'llaveX': 'X'}"
   ]
  }
 ],
 "metadata": {
  "celltoolbar": "Edit Metadata",
  "kernelspec": {
   "display_name": "Python 3",
   "language": "python",
   "name": "python3"
  },
  "language_info": {
   "codemirror_mode": {
    "name": "ipython",
    "version": 3
   },
   "file_extension": ".py",
   "mimetype": "text/x-python",
   "name": "python",
   "nbconvert_exporter": "python",
   "pygments_lexer": "ipython3",
   "version": "3.5.4"
  }
 },
 "nbformat": 4,
 "nbformat_minor": 1
}
