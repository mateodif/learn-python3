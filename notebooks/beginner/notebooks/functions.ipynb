{
 "cells": [
  {
   "cell_type": "markdown",
   "metadata": {},
   "source": [
    "# Funciones"
   ]
  },
  {
   "cell_type": "code",
   "execution_count": null,
   "metadata": {},
   "outputs": [],
   "source": [
    "def mi_primera_funcion():\n",
    "    print('Hola mundo!')\n",
    "\n",
    "print('type: {}'.format(mi_primera_funcion))\n",
    "\n",
    "mi_primera_funcion()  # Calling a function"
   ]
  },
  {
   "cell_type": "markdown",
   "metadata": {},
   "source": [
    "### Argumentos"
   ]
  },
  {
   "cell_type": "code",
   "execution_count": null,
   "metadata": {},
   "outputs": [],
   "source": [
    "def saludar(nombre1, nombre2):\n",
    "    print('Hola {} y {}!'.format(nombre1, nombre2))\n",
    "\n",
    "saludar('John Doe', 'Superman')"
   ]
  },
  {
   "cell_type": "code",
   "execution_count": null,
   "metadata": {},
   "outputs": [],
   "source": [
    "# Funcion con valor devuelto\n",
    "def desnudar_y_convertir_minusculas(original):\n",
    "    modificado = original.strip().lower()\n",
    "    return modificado\n",
    "\n",
    "string_feo = '  StRiNg MEzClaDo '\n",
    "lindo = desnudar_y_convertir_minusculas(string_feo)\n",
    "print('lindo: {}'.format(lindo))"
   ]
  },
  {
   "cell_type": "markdown",
   "metadata": {},
   "source": [
    "### Argumentos con nombre"
   ]
  },
  {
   "cell_type": "code",
   "execution_count": null,
   "metadata": {},
   "outputs": [],
   "source": [
    "def mi_calculo_loco(primero, segundo, tercero):\n",
    "    return primero + segundo - tercero \n",
    "\n",
    "print(mi_calculo_loco(3, 2, 1))\n",
    "\n",
    "print(mi_calculo_loco(primero=3, segundo=2, tercero=1))\n",
    "\n",
    "# Con argumentos con nombre se puede mezclar el orden\n",
    "print(mi_calculo_loco(tercero=1, primero=3, segundo=2))\n",
    "\n",
    "# Pueden mezclar argumentos normales y argumentos con nombre pero siempre tienen que ir primero los argumentos normales\n",
    "print(mi_calculo_loco(3, tercero=1, segundo=2))  "
   ]
  },
  {
   "cell_type": "markdown",
   "metadata": {},
   "source": [
    "### Argumentos por defecto"
   ]
  },
  {
   "cell_type": "code",
   "execution_count": null,
   "metadata": {
    "scrolled": true
   },
   "outputs": [],
   "source": [
    "def crear_info_persona(nombre, edad, trabajo=None, sueldo=300):\n",
    "    info = {'nombre': nombre, 'edad': edad, 'sueldo': sueldo}\n",
    "    \n",
    "    # Añado la llave 'trabajo' solo si se dio como parametro\n",
    "    if trabajo:  \n",
    "        info.update(dict(trabajo=trabajo))\n",
    "        \n",
    "    return info\n",
    "\n",
    "person1 = crear_info_persona('John Doe', 82)  # uso los valores por defecto de trabajo y sueldo\n",
    "person2 = crear_info_persona('Lisa Doe', 22, 'hacker', 10000)\n",
    "print(person1)\n",
    "print(person2)"
   ]
  },
  {
   "cell_type": "markdown",
   "metadata": {},
   "source": [
    "**No usen objetos mutables como argumentos por defecto!!**"
   ]
  },
  {
   "cell_type": "code",
   "execution_count": null,
   "metadata": {},
   "outputs": [],
   "source": [
    "def append_si_es_multiplo_de_5(numero, lista_magica=[]):\n",
    "    if numero % 5 == 0:\n",
    "        lista_magica.append(numero)\n",
    "    return lista_magica\n",
    "\n",
    "print(append_si_es_multiplo_de_5(100))\n",
    "print(append_si_es_multiplo_de_5(105))\n",
    "print(append_si_es_multiplo_de_5(123))\n",
    "print(append_si_es_multiplo_de_5(123, []))\n",
    "print(append_si_es_multiplo_de_5(123))"
   ]
  },
  {
   "cell_type": "markdown",
   "metadata": {},
   "source": [
    "Así sería si lo quisieramos hacer bien:"
   ]
  },
  {
   "cell_type": "code",
   "execution_count": null,
   "metadata": {},
   "outputs": [],
   "source": [
    "def append_si_es_multiplo_de_5(numero, lista_magica=None):\n",
    "    if not lista_magica:\n",
    "        lista_magica = []\n",
    "    if numero % 5 == 0:\n",
    "        lista_magica.append(numero)\n",
    "    return lista_magica\n",
    "\n",
    "print(append_si_es_multiplo_de_5(100))\n",
    "print(append_si_es_multiplo_de_5(105))\n",
    "print(append_si_es_multiplo_de_5(123))\n",
    "print(append_si_es_multiplo_de_5(123, []))\n",
    "print(append_si_es_multiplo_de_5(123))"
   ]
  },
  {
   "cell_type": "markdown",
   "metadata": {},
   "source": [
    "### Docstrings\n",
    "Strings para documentar funciones, metodos, modulos y variables."
   ]
  },
  {
   "cell_type": "code",
   "execution_count": null,
   "metadata": {},
   "outputs": [],
   "source": [
    "def imprimir_suma(val1, val2):\n",
    "    \"\"\"Funcion que imprime la suma de los argumentos dados.\"\"\"\n",
    "    print('suma: {}'.format(val1 + val2))\n",
    "\n",
    "print(help(imprimir_suma))"
   ]
  },
  {
   "cell_type": "code",
   "execution_count": null,
   "metadata": {},
   "outputs": [],
   "source": [
    "def calcular_suma(val1, val2):\n",
    "    \"\"\"Esto es un docstring mas largo que tambien define los argumentos y el valor de retorno. \n",
    "\n",
    "    Args:\n",
    "        val1: El primer parametro.\n",
    "        val2: El segundo parametro.\n",
    "\n",
    "    Devuelve:\n",
    "        La suma de val1 y val2.\n",
    "        \n",
    "    \"\"\"\n",
    "    return val1 + val2\n",
    "\n",
    "print(help(calcular_suma))"
   ]
  },
  {
   "cell_type": "markdown",
   "metadata": {},
   "source": [
    "### La palabra clave [`pass`](https://docs.python.org/3/reference/simple_stmts.html#the-pass-statement)\n",
    "`pass` es una declaracion que no hace nada cuando es ejecutada. Puede usarse para, por ej, como código provisorio para hacer que el código este sintaticamente correcto mientras pensamos como serán las funciones y/o clases de nuestro programa. Por ejemplo, lo siguiente es Python válido. "
   ]
  },
  {
   "cell_type": "code",
   "execution_count": null,
   "metadata": {},
   "outputs": [],
   "source": [
    "def mi_funcion(algun_argumento):\n",
    "    pass\n",
    "\n",
    "def mi_otra_funcion():\n",
    "    pass"
   ]
  }
 ],
 "metadata": {
  "kernelspec": {
   "display_nombre": "Python 3",
   "languedad": "python",
   "nombre": "python3"
  },
  "languedad_info": {
   "codemirror_mode": {
    "nombre": "ipython",
    "version": 3
   },
   "file_extension": ".py",
   "mimetype": "text/x-python",
   "nombre": "python",
   "nbconvert_exporter": "python",
   "pygments_lexer": "ipython3",
   "version": "3.5.4"
  }
 },
 "nbformat": 4,
 "nbformat_minor": 2
}
