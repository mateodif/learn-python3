{
 "cells": [
  {
   "cell_type": "markdown",
   "metadata": {},
   "source": [
    "# [Archivos I/O](https://docs.python.org/3/tutorial/inputoutput.html#reading-and-writing-files)\n",
    "Leyendo y escribiendo archivos."
   ]
  },
  {
   "cell_type": "markdown",
   "metadata": {},
   "source": [
    "## Trabajando con rutas"
   ]
  },
  {
   "cell_type": "code",
   "execution_count": null,
   "metadata": {},
   "outputs": [],
   "source": [
    "import os\n",
    "\n",
    "archivo_actual = os.path.realpath('file_io.ipynb')  \n",
    "print('archivo actual: {}'.format(archivo_actual))\n",
    "# Nota: en archivos .py pueden obtener la ruta del archivo actual con __file__\n",
    "\n",
    "dir_actual = os.path.dirname(archivo_actual)  \n",
    "print('directorio actual: {}'.format(dir_actual))\n",
    "# Note: en archivos .py pueden obtener el directorio del archivo actual con os.path.dirname(__file__)\n",
    "\n",
    "dir_data = os.path.join(os.path.dirname(dir_actual), 'data')\n",
    "print('directorio de data: {}'.format(dir_data))"
   ]
  },
  {
   "cell_type": "markdown",
   "metadata": {},
   "source": [
    "### Verificando si la ruta existe"
   ]
  },
  {
   "cell_type": "code",
   "execution_count": null,
   "metadata": {},
   "outputs": [],
   "source": [
    "print('existe: {}'.format(os.path.exists(dir_data)))\n",
    "print('es archivo: {}'.format(os.path.isfile(dir_data)))\n",
    "print('es directorio: {}'.format(os.path.isdir(dir_data)))"
   ]
  },
  {
   "cell_type": "markdown",
   "metadata": {},
   "source": [
    "## Leyendo archivos"
   ]
  },
  {
   "cell_type": "code",
   "execution_count": null,
   "metadata": {},
   "outputs": [],
   "source": [
    "ruta_archivo = os.path.join(dir_data, 'archivo_simple.txt')\n",
    "\n",
    "with open(ruta_archivo, 'r') as archivo_simple:\n",
    "    for linea in archivo_simple:\n",
    "        print(linea.strip())"
   ]
  },
  {
   "cell_type": "markdown",
   "metadata": {},
   "source": [
    "La declaración [`with`](https://docs.python.org/3/reference/compound_stmts.html#the-with-statement) es para obtener un [context manager](https://docs.python.org/3/reference/datamodel.html#with-statement-context-managers) que sera usado como un contexto de evaluación para los comandos dentro del `with`. Los context managers garantizan que ciertas operaciones sean hechas cuando se sale del contexto. \n",
    "\n",
    "En este caso, el context manager garantiza que `archivo_simple.close()` sea llamado implicitamente cuando se salga del contexto. Esta es una forma de hacer la vida de los desarrolladores más fácil: no tenemos que acordarnos de cerrar explicitamente el archivo que abrimos ni tenemos que preocuparnos que alguna excepción ocurra mientras que el archivo esté abierto. Archivos que estén sin cerrar pueden ser una fuente de 'fuga' de recursos. Por lo tanto, procuren usar la estructura `with open()` siempre cuando interactuen con I/O.\n",
    "\n",
    "Para tener un ejemplo, lo mismo que arriba pero sin el `with`."
   ]
  },
  {
   "cell_type": "code",
   "execution_count": null,
   "metadata": {},
   "outputs": [],
   "source": [
    "ruta_archivo = os.path.join(dir_data, 'archivo_simple.txt')\n",
    "\n",
    "# ESTA NO ES LA FORMA QUE DEBERIAN USAR\n",
    "archivo_simple = open(ruta_archivo, 'r')\n",
    "for linea in archivo_simple:\n",
    "    print(linea.strip())\n",
    "archivo_simple.close()  # Esto tiene que ser llamado explicitamente "
   ]
  },
  {
   "cell_type": "markdown",
   "metadata": {},
   "source": [
    "## Escribiendo archivos"
   ]
  },
  {
   "cell_type": "code",
   "execution_count": null,
   "metadata": {},
   "outputs": [],
   "source": [
    "nueva_ruta_archivo = os.path.join(dir_data, 'nuevo_archivo.txt')\n",
    "\n",
    "with open(nueva_ruta_archivo, 'w') as mi_archivo:\n",
    "    mi_archivo.write('Este es el primer archivo que hago con Python.')"
   ]
  },
  {
   "cell_type": "markdown",
   "metadata": {},
   "source": [
    "Ahora fijense si hay un archivo llamado nuevo_archivo.txt en el directorio data. Después que se fijen pueden borrar el archivo haciendo:"
   ]
  },
  {
   "cell_type": "code",
   "execution_count": null,
   "metadata": {},
   "outputs": [],
   "source": [
    "if os.path.exists(nueva_ruta_archivo):  # nos aseguramos que este ahi\n",
    "    os.remove(nueva_ruta_archivo)"
   ]
  }
 ],
 "metadata": {
  "kernelspec": {
   "display_name": "Python 3",
   "language": "python",
   "name": "python3"
  },
  "language_info": {
   "codemirror_mode": {
    "name": "ipython",
    "version": 3
   },
   "file_extension": ".py",
   "mimetype": "text/x-python",
   "name": "python",
   "nbconvert_exporter": "python",
   "pygments_lexer": "ipython3",
   "version": "3.5.4"
  }
 },
 "nbformat": 4,
 "nbformat_minor": 2
}
