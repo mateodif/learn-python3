{
 "cells": [
  {
   "cell_type": "markdown",
   "metadata": {},
   "source": [
    "# [Diccionarios](https://docs.python.org/3/library/stdtypes.html#dict) \n",
    "Colecciones de pares `llave`-`valor`. "
   ]
  },
  {
   "cell_type": "code",
   "execution_count": null,
   "metadata": {},
   "outputs": [],
   "source": [
    "mi_dicc_vacio = {}  # alternative: mi_dicc_vacio = dict()\n",
    "print('dicc: {}, tipo: {}'.format(mi_dicc_vacio, type(mi_dicc_vacio)))"
   ]
  },
  {
   "cell_type": "markdown",
   "metadata": {},
   "source": [
    "## Inicialización"
   ]
  },
  {
   "cell_type": "code",
   "execution_count": null,
   "metadata": {},
   "outputs": [],
   "source": [
    "dicc1 = {'valor1': 1.6, 'valor2': 10, 'nombre': 'John Doe'}\n",
    "dicc2 = dict(valor1=1.6, valor2=10, nombre='John Doe')\n",
    "\n",
    "print(dicc1)\n",
    "print(dicc2)\n",
    "\n",
    "print('igual: {}'.format(dicc1 == dicc2))\n",
    "print('longitud: {}'.format(len(dicc1)))"
   ]
  },
  {
   "cell_type": "markdown",
   "metadata": {},
   "source": [
    "## `dict.keys(), dict.valors(), dict.items()`"
   ]
  },
  {
   "cell_type": "code",
   "execution_count": null,
   "metadata": {},
   "outputs": [],
   "source": [
    "print('llaves: {}'.format(dicc1.keys()))\n",
    "print('valores: {}'.format(dicc1.valors()))\n",
    "print('items: {}'.format(dicc1.items()))"
   ]
  },
  {
   "cell_type": "markdown",
   "metadata": {},
   "source": [
    "## Accediendo y seteando valores"
   ]
  },
  {
   "cell_type": "code",
   "execution_count": null,
   "metadata": {},
   "outputs": [],
   "source": [
    "mi_dicc = {}\n",
    "mi_dicc['llave1'] = 'valor1'\n",
    "mi_dicc['llave2'] = 99\n",
    "mi_dicc['llave1'] = 'nuevo valor'  # reemplazando el valor existente\n",
    "print(mi_dicc)\n",
    "print('valor de llave1: {}'.format(mi_dicc['llave1']))"
   ]
  },
  {
   "cell_type": "markdown",
   "metadata": {},
   "source": [
    "Accediendo una llave no existente nos va a dar `KeyError` (vean [`dict.get()`](#dict_get) para buscarle la vuelta):"
   ]
  },
  {
   "cell_type": "code",
   "execution_count": null,
   "metadata": {},
   "outputs": [],
   "source": [
    "# print(mi_dicc['nop'])"
   ]
  },
  {
   "cell_type": "markdown",
   "metadata": {},
   "source": [
    "## Borrando"
   ]
  },
  {
   "cell_type": "code",
   "execution_count": null,
   "metadata": {},
   "outputs": [],
   "source": [
    "mi_dicc = {'llave1': 'valor1', 'llave2': 99, 'llaveX': 'valorX'}\n",
    "del mi_dicc['llaveX']\n",
    "print(mi_dicc)\n",
    "\n",
    "# Usualmente es mejor asegurarse que la llave existe (vean también pop() y popitem())\n",
    "llave_a_eliminar = 'mi_llave'\n",
    "if llave_a_eliminar in mi_dicc:\n",
    "    del mi_dicc[llave_a_eliminar]\n",
    "else:\n",
    "    print('{llave} no esta en {diccionario}'.format(llave=llave_a_eliminar, diccionario=mi_dicc))"
   ]
  },
  {
   "cell_type": "markdown",
   "metadata": {},
   "source": [
    "## Los diccionarios son mutables"
   ]
  },
  {
   "cell_type": "code",
   "execution_count": null,
   "metadata": {},
   "outputs": [],
   "source": [
    "mi_dicc = {'jamon': 'bueno', 'zanahoria': 'casi buena'}\n",
    "mi_otro_dicc = mi_dicc\n",
    "mi_otro_dicc['zanahoria'] = 'muy rica'\n",
    "mi_otro_dicc['patty'] = 'lo mejor'\n",
    "print('mi_dicc: {}\\notro: {}'.format(mi_dicc, mi_otro_dicc))\n",
    "print('igual: {}'.format(mi_dicc == mi_otro_dicc))"
   ]
  },
  {
   "cell_type": "markdown",
   "metadata": {},
   "source": [
    "Create a new `dict` if you want to have a copy:"
   ]
  },
  {
   "cell_type": "code",
   "execution_count": null,
   "metadata": {},
   "outputs": [],
   "source": [
    "mi_dicc = {'jamon': 'bueno', 'zanahoria': 'casi buena'}\n",
    "mi_otro_dicc = dict(mi_dicc)\n",
    "mi_otro_dicc['cerveza'] = 'decent'\n",
    "print('mi_dicc: {}\\notro: {}'.format(mi_dicc, mi_otro_dicc))\n",
    "print('igual: {}'.format(mi_dicc == mi_otro_dicc))"
   ]
  },
  {
   "cell_type": "markdown",
   "metadata": {},
   "source": [
    "<a id='dict_get'></a>\n",
    "## `dict.get()`\n",
    "Devuelve `None` si `llave` no esta en `dicc`. Sin embargo, pueden especificar un valor `por defecto` que será devuelto si `llave` no está presente en el `dicc`. "
   ]
  },
  {
   "cell_type": "code",
   "execution_count": null,
   "metadata": {},
   "outputs": [],
   "source": [
    "mi_dicc = {'a': 1, 'b': 2, 'c': 3}\n",
    "d = mi_dicc.get('d')\n",
    "print('d: {}'.format(d))\n",
    "\n",
    "d = mi_dicc.get('d', 'mi valor por defecto')\n",
    "print('d: {}'.format(d))"
   ]
  },
  {
   "cell_type": "markdown",
   "metadata": {},
   "source": [
    "## `dict.pop()`"
   ]
  },
  {
   "cell_type": "code",
   "execution_count": null,
   "metadata": {},
   "outputs": [],
   "source": [
    "mi_dicc = dict(comida='jamon', bebida='cerveza', deporte='football')\n",
    "print('dict before pops: {}'.format(mi_dicc))\n",
    "\n",
    "comida = mi_dicc.pop('comida')\n",
    "print('comida: {}'.format(comida))\n",
    "print('diccionario despues de aplicar pop: {}'.format(mi_dicc))\n",
    "\n",
    "comida_denuevo = mi_dicc.pop('comida', 'valor por defecto para comida')\n",
    "print('comida de nuevo: {}'.format(comida_denuevo))\n",
    "print('diccionario despues de aplicar pop otra vez: {}'.format(mi_dicc))\n"
   ]
  },
  {
   "cell_type": "markdown",
   "metadata": {},
   "source": [
    "## `dict.setdefault()`\n",
    "Devuelve el `valor` de `llave` definida como primer parametro. Si `llave` no está en el diccionario, añade `llave` con un valor por defecto (segundo parametro)."
   ]
  },
  {
   "cell_type": "code",
   "execution_count": null,
   "metadata": {},
   "outputs": [],
   "source": [
    "mi_dicc = {'a': 1, 'b': 2, 'c': 3}\n",
    "a = mi_dicc.setdefault('a', 'mi valor por defecto')\n",
    "d = mi_dicc.setdefault('d', 'mi valor por defecto')\n",
    "print('a: {}\\nd: {}\\nmi_dicc: {}'.format(a, d, mi_dicc))"
   ]
  },
  {
   "cell_type": "markdown",
   "metadata": {},
   "source": [
    "## `dict.update()`\n",
    "Combina dos `dicc`s"
   ]
  },
  {
   "cell_type": "code",
   "execution_count": null,
   "metadata": {},
   "outputs": [],
   "source": [
    "dicc1 = {'a': 1, 'b': 2}\n",
    "dicc2 = {'c': 3}\n",
    "dicc1.update(dicc2)\n",
    "print(dicc1)\n",
    "\n",
    "# Si tienen las mismas llaves:\n",
    "dicc1.update({'c': 4})\n",
    "print(dicc1)"
   ]
  },
  {
   "cell_type": "markdown",
   "metadata": {},
   "source": [
    "## Las llaves de un `dicc` tienen que ser inmutables"
   ]
  },
  {
   "cell_type": "markdown",
   "metadata": {},
   "source": [
    "Por lo que no podemos usar, por ejemplo, una `lista` o un `dicc` como llaves porque son tipos mutables\n",
    ":"
   ]
  },
  {
   "cell_type": "code",
   "execution_count": null,
   "metadata": {},
   "outputs": [],
   "source": [
    "# mal_dicc = {['mi_lista'], 'valor'}  # Tira TypeError"
   ]
  },
  {
   "cell_type": "markdown",
   "metadata": {},
   "source": [
    "Los valores pueden ser mutables"
   ]
  },
  {
   "cell_type": "code",
   "execution_count": null,
   "metadata": {},
   "outputs": [],
   "source": [
    "buen_dicc = {'mi llave': ['Python', 'es', 'divertido', '(ponele)']}\n",
    "print(buen_dicc)"
   ]
  }
 ],
 "metadata": {
  "kernelspec": {
   "display_nombre": "Python 3",
   "language": "python",
   "nombre": "python3"
  },
  "language_info": {
   "codemirror_mode": {
    "nombre": "ipython",
    "version": 3
   },
   "file_extension": ".py",
   "mimetype": "text/x-python",
   "nombre": "python",
   "nbconvert_exporter": "python",
   "pygments_lexer": "ipython3",
   "version": "3.5.4"
  }
 },
 "nbformat": 4,
 "nbformat_minor": 2
}
