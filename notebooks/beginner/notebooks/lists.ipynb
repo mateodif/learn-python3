{
 "cells": [
  {
   "cell_type": "markdown",
   "metadata": {},
   "source": [
    "# [Listas](https://docs.python.org/3/library/stdtypes.html#Listas)"
   ]
  },
  {
   "cell_type": "code",
   "execution_count": null,
   "metadata": {},
   "outputs": [],
   "source": [
    "mi_lista_vacia = []\n",
    "print('lista vacia: {}, tipo: {}'.format(mi_lista_vacia, type(mi_lista_vacia)))"
   ]
  },
  {
   "cell_type": "code",
   "execution_count": null,
   "metadata": {},
   "outputs": [],
   "source": [
    "lista_de_ints = [1, 2, 6, 7]\n",
    "lista_mixta = [0.2, 5, 'Python', 'es', 'divertido', '!']\n",
    "print('lengths: {} and {}'.format(len(lista_de_ints), len(lista_mixta)))"
   ]
  },
  {
   "cell_type": "markdown",
   "metadata": {},
   "source": [
    "## Accediendo a valores"
   ]
  },
  {
   "cell_type": "code",
   "execution_count": null,
   "metadata": {},
   "outputs": [],
   "source": [
    "mi_lista = ['Python', 'es', 'divertido', '(ponele)']\n",
    "print(mi_lista[0])\n",
    "print(mi_lista[3])"
   ]
  },
  {
   "cell_type": "code",
   "execution_count": null,
   "metadata": {},
   "outputs": [],
   "source": [
    "coordenadas = [[12.0, 13.3], [0.6, 18.0], [88.0, 1.1]]  # en dos dimensiones\n",
    "print('primera coordenada: {}'.format(coordenadas[0]))\n",
    "print('segundo elemento de la primera coordenada: {}'.format(coordenadas[0][1]))"
   ]
  },
  {
   "cell_type": "markdown",
   "metadata": {},
   "source": [
    "## Actualizando valores"
   ]
  },
  {
   "cell_type": "code",
   "execution_count": null,
   "metadata": {},
   "outputs": [],
   "source": [
    "mi_lista = [0, 1, 2, 3, 4, 5]\n",
    "mi_lista[0] = 99\n",
    "print(mi_lista)\n",
    "\n",
    "# borro el primer valor\n",
    "del mi_lista[0]\n",
    "print(mi_lista)"
   ]
  },
  {
   "cell_type": "markdown",
   "metadata": {},
   "source": [
    "## Me fijo si cierto valor está en la lista"
   ]
  },
  {
   "cell_type": "code",
   "execution_count": null,
   "metadata": {},
   "outputs": [],
   "source": [
    "lenguajes = ['Java', 'C++', 'Go', 'Python', 'JavaScript']\n",
    "if 'Python' in lenguajes:\n",
    "    print('Python esta en la lista!')"
   ]
  },
  {
   "cell_type": "code",
   "execution_count": null,
   "metadata": {},
   "outputs": [],
   "source": [
    "if 6 not in [1, 2, 3, 7]:\n",
    "    print('el numero 6 no esta presente')"
   ]
  },
  {
   "cell_type": "markdown",
   "metadata": {},
   "source": [
    "## Las listas son mutables"
   ]
  },
  {
   "cell_type": "code",
   "execution_count": null,
   "metadata": {},
   "outputs": [],
   "source": [
    "original = [1, 2, 3]\n",
    "modificada = original\n",
    "modificada[0] = 99\n",
    "print('original: {}, modificada: {}'.format(original, modificada))"
   ]
  },
  {
   "cell_type": "markdown",
   "metadata": {},
   "source": [
    "Pueden solucionar esto creando una nueva `lista`:"
   ]
  },
  {
   "cell_type": "code",
   "execution_count": null,
   "metadata": {},
   "outputs": [],
   "source": [
    "original = [1, 2, 3]\n",
    "modificada = list(original)  # Noten list() \n",
    "# De forma alternativa, pueden usar el metodo copy\n",
    "# modificada = original.copy()\n",
    "modificada[0] = 99\n",
    "print('original: {}, modificada: {}'.format(original, modificada))"
   ]
  },
  {
   "cell_type": "markdown",
   "metadata": {},
   "source": [
    "## `list.append()`"
   ]
  },
  {
   "cell_type": "code",
   "execution_count": null,
   "metadata": {},
   "outputs": [],
   "source": [
    "mi_lista = [1]\n",
    "mi_lista.append('jamon')\n",
    "print(mi_lista)"
   ]
  },
  {
   "cell_type": "markdown",
   "metadata": {},
   "source": [
    "## `list.remove()`"
   ]
  },
  {
   "cell_type": "code",
   "execution_count": null,
   "metadata": {},
   "outputs": [],
   "source": [
    "mi_lista = ['Python', 'es', 'divertido', '(ponele)']\n",
    "mi_lista.remove('divertido')\n",
    "print(mi_lista)\n",
    "\n",
    "# Si no están seguros que el valor esté en la lista, mejor que se fijen primero:\n",
    "if 'Java' in mi_lista:\n",
    "    mi_lista.remove('Java')\n",
    "else:\n",
    "    print('Java no es parte de esta historia.')"
   ]
  },
  {
   "cell_type": "markdown",
   "metadata": {},
   "source": [
    "## `list.sort()`"
   ]
  },
  {
   "cell_type": "code",
   "execution_count": null,
   "metadata": {},
   "outputs": [],
   "source": [
    "numeros = [8, 1, 6, 5, 10]\n",
    "numeros.sort()\n",
    "print('numeros: {}'.format(numeros))\n",
    "\n",
    "numeros.sort(reverse=True)\n",
    "print('numeros invertidos: {}'.format(numeros))\n",
    "\n",
    "palabras = ['esto', 'es', 'una', 'lista', 'de', 'palabras']\n",
    "palabras.sort()\n",
    "print('palabras: {}'.format(palabras))"
   ]
  },
  {
   "cell_type": "markdown",
   "metadata": {},
   "source": [
    "## `sorted(list)`\n",
    "Mientras que `lista.sort()` ordena la lista original, `sorted(lista)` devuelve una nueva lista y deja la lista original sin tocar:"
   ]
  },
  {
   "cell_type": "code",
   "execution_count": null,
   "metadata": {},
   "outputs": [],
   "source": [
    "numeros = [8, 1, 6, 5, 10]\n",
    "numeros_ordenados = sorted(numeros)\n",
    "print('numeros: {}, ordenados: {}'.format(numeros, numeros_ordenados))"
   ]
  },
  {
   "cell_type": "markdown",
   "metadata": {},
   "source": [
    "## `list.extend()`"
   ]
  },
  {
   "cell_type": "code",
   "execution_count": null,
   "metadata": {},
   "outputs": [],
   "source": [
    "primer_lista = ['beef', 'jamon']\n",
    "segunda_lista = ['potatoes',1 ,3]\n",
    "primer_lista.extend(segunda_lista)\n",
    "print('primera: {}, segunda: {}'.format(primer_lista, segunda_lista))"
   ]
  },
  {
   "cell_type": "markdown",
   "metadata": {},
   "source": [
    "También pueden extender listas sumandolas:"
   ]
  },
  {
   "cell_type": "code",
   "execution_count": null,
   "metadata": {},
   "outputs": [],
   "source": [
    "primera = [1, 2, 3]\n",
    "segunda = [4, 5]\n",
    "primera += segunda  # lo mismo que: primera = primera + segunda\n",
    "print('primera: {}'.format(primera))\n",
    "\n",
    "# Si necesitan una lista nueva\n",
    "sumada = primera + segunda\n",
    "print('sumada: {}'.format(sumada))"
   ]
  },
  {
   "cell_type": "markdown",
   "metadata": {},
   "source": [
    "## `list.reverse()`"
   ]
  },
  {
   "cell_type": "code",
   "execution_count": null,
   "metadata": {},
   "outputs": [],
   "source": [
    "mi_lista = ['a', 'b', 'jamon']\n",
    "mi_lista.reverse()\n",
    "print(mi_lista)"
   ]
  }
 ],
 "metadata": {
  "kernelspec": {
   "display_name": "Python 3",
   "language": "python",
   "name": "python3"
  },
  "language_info": {
   "codemirror_mode": {
    "name": "ipython",
    "version": 3
   },
   "file_extension": ".py",
   "mimetype": "text/x-python",
   "name": "python",
   "nbconvert_exporter": "python",
   "pygments_lexer": "ipython3",
   "version": "3.5.4"
  }
 },
 "nbformat": 4,
 "nbformat_minor": 2
}
