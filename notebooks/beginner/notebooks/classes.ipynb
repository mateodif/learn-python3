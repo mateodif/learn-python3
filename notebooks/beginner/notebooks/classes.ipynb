{
 "cells": [
  {
   "cell_type": "markdown",
   "metadata": {},
   "source": [
    "# [Clases](https://docs.python.org/3/tutorial/classes.html#a-first-look-at-classes)"
   ]
  },
  {
   "cell_type": "code",
   "execution_count": null,
   "metadata": {},
   "outputs": [],
   "source": [
    "class MiPrimerClase:\n",
    "    def __init__(self, nombre):\n",
    "        self.nombre = nombre\n",
    "\n",
    "    def saludar(self):\n",
    "        print('Hola {}!'.format(self.nombre))"
   ]
  },
  {
   "cell_type": "code",
   "execution_count": null,
   "metadata": {},
   "outputs": [],
   "source": [
    "mi_instancia = MiPrimerClase('John Doe')\n",
    "print('mi_instancia: {}'.format(mi_instancia))\n",
    "print('tipo: {}'.format(type(mi_instancia)))\n",
    "print('mi_instancia.nombre: {}'.format(mi_instancia.nombre))"
   ]
  },
  {
   "cell_type": "markdown",
   "metadata": {},
   "source": [
    "## Metodos\n",
    "Las funciones dentro de clases son llamadas metodos. Son usadas de una forma similar a las funciones. "
   ]
  },
  {
   "cell_type": "code",
   "execution_count": null,
   "metadata": {},
   "outputs": [],
   "source": [
    "alicia = MiPrimerClase(nombre='Alicia')\n",
    "alicia.saludar()"
   ]
  },
  {
   "cell_type": "markdown",
   "metadata": {},
   "source": [
    "### `__init__()`\n",
    "`__init__()` es un metodo especial que es usado para inicializar instancias de la clase. Es llamado cuando se crea una instancia de la clase. "
   ]
  },
  {
   "cell_type": "code",
   "execution_count": null,
   "metadata": {},
   "outputs": [],
   "source": [
    "class Ejemplo:\n",
    "    def __init__(self):\n",
    "        print('Ahora estamos dentro del __init__')\n",
    "        \n",
    "print('creando una instancia de Ejemplo')\n",
    "ejemplo = Ejemplo()\n",
    "print('instancia creada')"
   ]
  },
  {
   "cell_type": "markdown",
   "metadata": {},
   "source": [
    "`__init__()` es tipicamente usado para inicializar variables de tu clase. Estas pueden ser listadas como argumentos después de `self`. Para poder acceder a estas variables de instancia durante la vida de tu instancia, tienen que guardarlas en `self`. `self` es el primer argumento de los metodos de tu clase y es tu acceso a las variables de la instancia y otros metodos. "
   ]
  },
  {
   "cell_type": "code",
   "execution_count": null,
   "metadata": {},
   "outputs": [],
   "source": [
    "class Ejemplo:\n",
    "    def __init__(self, var1, var2):\n",
    "        self.primer_var = var1\n",
    "        self.segundo_var = var2\n",
    "        \n",
    "    def print_variables(self):\n",
    "        print('{} {}'.format(self.primer_var, self.segundo_var))\n",
    "        \n",
    "e = Ejemplo('abc', 123)\n",
    "e.print_variables()\n",
    "    "
   ]
  },
  {
   "cell_type": "markdown",
   "metadata": {},
   "source": [
    "### `__str__()`\n",
    "`__str__()` es un metodo especial que es llamado cuando una instancia de la clase es convertida a string (ej, cuando quieren imprimir la instancia). En otras palabras, definiendo el metodo `__str__` para tu clase, pueden decidir cual va a ser la versión imprimible de las instancias de tu clase. Este metodo debe devolver un string."
   ]
  },
  {
   "cell_type": "code",
   "execution_count": null,
   "metadata": {},
   "outputs": [],
   "source": [
    "class Persona:\n",
    "    def __init__(self, nombre, edad):\n",
    "        self.nombre = nombre\n",
    "        self.edad = edad\n",
    "        \n",
    "    def __str__(self):\n",
    "        return 'Persona: {}'.format(self.nombre)\n",
    "    \n",
    "jack = Persona('Jack', 82)\n",
    "print('Esta es la representacion string de Jack: {}'.format(jack))"
   ]
  },
  {
   "cell_type": "markdown",
   "metadata": {},
   "source": [
    "## Variables de clase vs variables de instancia\n",
    "Las variables de clase pueden ser compartidas por todas las instancias de esa clase mientras que las variables de una instancia pueden tener diferentes valores entre diferentes instancias de esa clase."
   ]
  },
  {
   "cell_type": "code",
   "execution_count": null,
   "metadata": {},
   "outputs": [],
   "source": [
    "class Ejemplo:\n",
    "    # Estas son variables de clase\n",
    "    nombre = 'Clase Ejemplo'\n",
    "    descripcion = 'Solo un ejemplo de una clase simple'\n",
    "\n",
    "    def __init__(self, var1):\n",
    "        # Esta es una variable de instancia\n",
    "        self.variable_instancia = var1\n",
    "\n",
    "    def mostrar_info(self):\n",
    "        info = 'variable_instancia: {}, nombre: {}, descripcion: {}'.format(\n",
    "            self.variable_instancia, Ejemplo.nombre, Ejemplo.descripcion)\n",
    "        print(info)\n",
    "\n",
    "\n",
    "inst1 = Ejemplo('foo')\n",
    "inst2 = Ejemplo('bar')\n",
    "\n",
    "# nombre y descripcion tienen valores identicos entre instancias\n",
    "assert inst1.nombre == inst2.nombre == Ejemplo.nombre\n",
    "assert inst1.descripcion == inst2.descripcion == Ejemplo.descripcion\n",
    "\n",
    "# Si cambian el valor de una variable de clase, se cambia en todas las instancias\n",
    "Ejemplo.nombre = 'Nombre modificado'\n",
    "inst1.mostrar_info()\n",
    "inst2.mostrar_info()"
   ]
  },
  {
   "cell_type": "markdown",
   "metadata": {},
   "source": [
    "## Publico vs privado\n",
    "En python hay una separación estricta para metodos privados/publicos o variables de instancia. La convención es empezar el nombre del metodo o variable de instancia con guion bajo si debería ser tratada como privada. Privada significa que no puede ser accedida por fuera de la clase.\n",
    "\n",
    "Por ejemplo, consideremos que tenemos una clase `Persona` que tiene `edad` como una variable de instancia. Queremos que `edad` no sea directamente accedida (o cambiada) despues de que la instancia es creada. En Python esto sería:"
   ]
  },
  {
   "cell_type": "code",
   "execution_count": null,
   "metadata": {},
   "outputs": [],
   "source": [
    "class Persona:\n",
    "    def __init__(self, edad):\n",
    "        self._edad = edad\n",
    "        \n",
    "ejemplo_persona = Persona(edad=15)\n",
    "# No pueden hacer esto:\n",
    "# print(ejemplo_persona.edad)\n",
    "# Ni esto:\n",
    "# ejemplo_persona.edad = 16"
   ]
  },
  {
   "cell_type": "markdown",
   "metadata": {},
   "source": [
    "Si quieren que `edad` pueda ser leido pero no escrito, pueden usar `property`:"
   ]
  },
  {
   "cell_type": "code",
   "execution_count": null,
   "metadata": {},
   "outputs": [],
   "source": [
    "class Persona:\n",
    "    def __init__(self, edad):\n",
    "        self._edad = edad\n",
    "        \n",
    "    @property\n",
    "    def edad(self):\n",
    "        return self._edad\n",
    "        \n",
    "ejemplo_persona = Persona(edad=15)\n",
    "# Ahora pueden hacer esto:\n",
    "print(ejemplo_persona.edad)\n",
    "# Pero no esto:\n",
    "#ejemplo_persona.edad = 16"
   ]
  },
  {
   "cell_type": "markdown",
   "metadata": {},
   "source": [
    "De esta forma tienen un acceso controlado a las variables de instancia de sus clases: "
   ]
  },
  {
   "cell_type": "code",
   "execution_count": null,
   "metadata": {},
   "outputs": [],
   "source": [
    "class Persona:\n",
    "    def __init__(self, edad):\n",
    "        self._edad = edad\n",
    "        \n",
    "    @property\n",
    "    def edad(self):\n",
    "        return self._edad\n",
    "    \n",
    "    def celebrar_cumple(self):\n",
    "        self._edad += 1\n",
    "        print('Felices {} anios!'.format(self._edad))\n",
    "        \n",
    "ejemplo_persona = Persona(edad=15)\n",
    "ejemplo_persona.celebrar_cumple()"
   ]
  },
  {
   "cell_type": "markdown",
   "metadata": {},
   "source": [
    "## Introducción a la herencia"
   ]
  },
  {
   "cell_type": "code",
   "execution_count": null,
   "metadata": {},
   "outputs": [],
   "source": [
    "class Animal:\n",
    "    def saludar(self):\n",
    "        print('Hola, soy un animal')\n",
    "\n",
    "    @property\n",
    "    def comida_favorita(self):\n",
    "        return 'churrasco'\n",
    "\n",
    "\n",
    "class Perro(Animal):\n",
    "    def saludar(self):\n",
    "        print('wof wof')\n",
    "\n",
    "\n",
    "class Gato(Animal):\n",
    "    @property\n",
    "    def comida_favorita(self):\n",
    "        return 'pez'"
   ]
  },
  {
   "cell_type": "code",
   "execution_count": null,
   "metadata": {},
   "outputs": [],
   "source": [
    "perro = Perro()\n",
    "perro.saludar()\n",
    "print(\"La comida favorita del perro es {}\".format(perro.comida_favorita))\n",
    "\n",
    "gato = Gato()\n",
    "gato.saludar()\n",
    "print(\"La comida favorita del gato es {}\".format(gato.comida_favorita))"
   ]
  }
 ],
 "metadata": {
  "kernelspec": {
   "display_name": "Python 3",
   "languedad": "python",
   "name": "python3"
  },
  "languedad_info": {
   "codemirror_mode": {
    "name": "ipython",
    "version": 3
   },
   "file_extension": ".py",
   "mimetype": "text/x-python",
   "name": "python",
   "nbconvert_exporter": "python",
   "pygments_lexer": "ipython3",
   "version": "3.5.4"
  }
 },
 "nbformat": 4,
 "nbformat_minor": 2
}
