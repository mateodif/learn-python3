{
 "cells": [
  {
   "cell_type": "markdown",
   "metadata": {},
   "source": [
    "# [Interactividad](https://p5.readthedocs.io/en/latest/tutorials/interactivity.html)"
   ]
  },
  {
   "cell_type": "markdown",
   "metadata": {},
   "source": [
    "## Interactividad\n",
    "La pantalla forma un puente entre nuestros cuerpos y el reino de los circuitos y electricidad dentro de las computadoras. Controlamos los elementos en una pantalla a través de una variedad de dispositivos como trackpads, joysticks y pantallas táctiles, pero el teclado y el mouse siguen siendo el dispositivo de entrada más común en las computadoras de escritorio. La historia del mouse de computadora empieza allá por los 60s, cuando Douglas Engelbart presento el dispositivo como un elemento del oN-Line System (NLS), una de los primeros sistemas de computadora con una pantalla de video. El concepto del mouse fue más desarrollado en el Xerox Palo Alto Research Center (PARC), pero su introducción con la Macintosh de Apple en 1984 fue el catalizador para su inmensa popularidad. El diseño del mouse fue cambiando a medida que pasaron los años, pero su función sigue siendo la misma. En la patente original de Engelbart de 1970 se refería al mouse como 'un indicador de posiciones X-Y', y esto sigue siendo correcto, pero define a secas su uso contemporaneo.\n",
    "\n",
    "El mouse como objeto fisico es usado para controlar la posición del cursor en la pantalla y seleccionar elementos de una interfaz. La posición del cursor es leída por un programa de computadora como dos numeros, la coordenada X y la coordenada Y. Estos números pueden ser usados para controlar atributos de los elementos en la pantalla. Si estas coordenadas son guardadas y analizadas, podemos extraer información de alto-nivel como la velocidad y la dirección del mouse. Estos datos a su vez pueden ser usados para gestos y reconocimiento de patrones.\n",
    "\n",
    "Los teclados son tipicamente usados para introducir caracteres y escribir documentos, emails, o mensajes de chat; pero el teclado tiene un potencial de uso que va más allá del que tuvo cuando fue originalmente concebido. La migración del teclado de una máquina de escribir a una computadora expandió su funcionalidad hasta permitirnos lanzar software, movernos a través de menus de aplicaciones, y navegar entornos 3D en videojuegos. Cuando escribimos nuestro propio software, tenemos la libertad de usar los datos del teclado de la forma que querramos. Por ejemplo, información básica como la velocidad y el ritmo de los dedos pueden ser determinados a partir de la frecuencia en la que las teclas son presionadas. Esta información puede controlar la velocidad de un evento o la precisión de un movimiento. También es posible ignorar los caracteres impresos en el teclado mismo y usar la ubicación de cada tecla como posiciones numericas.\n",
    "\n",
    "El teclado de computadora moderno es un descendiente directo de la máquina de escribir. La posición de las teclas son heredadas de las máquinas de escribir más antiguas. La distribución del teclado se llama QWERTY por el orden de las teclas de la fila de arriba.\n"
   ]
  },
  {
   "cell_type": "markdown",
   "metadata": {},
   "source": [
    "## Datos del mouse\n",
    "Las variables `mouse_x` y `mouse_y` de Processing almacenan las coordenadas X y las coordenadas Y del cursor relativo al origen de la esquina superior izquierda de la ventana. Para ver los valores que se producen cuando movemos el mouse, corran este programa para imprimir los valores en la consola:\n"
   ]
  },
  {
   "cell_type": "code",
   "execution_count": null,
   "metadata": {},
   "outputs": [],
   "source": [
    "def draw():\n",
    "    frame_rate(12)\n",
    "    print(mouse_x, ' : ', mouse_y)\n"
    ]
  },
  {
   "cell_type": "markdown",
   "metadata": {},
   "source": [
    "Cuando el programa inicie, las valores de `mouse_x` y `mouse_y` van a ser 0. Si el cursor se mueve dentro de la ventana, los valores van a ser la posición actual del cursor. Si el cursor está a la izquierda, el valor `mouse_x` es 0 y el valor aumenta a medida que el cursor se mueve a la derecha. Si el cursor está arriba, el valor de `mouse_y` es 0 y su valor aumenta a medida que el cursor se mueve para abajo. Si `mouse_x` y `mouse_y` son usados en programas sin `draw` o si `no_loop()` está dentro de `setup()`, los valores siempre van a ser 0. \n",
    "\n",
    "La posición del mouse es comunmente usada para controlar la ubicación de los elementos visuales en pantalla. Relaciones más interesantes pueden crearse cuando el elemento visual se relaciona de forma diferente según los valores del mouse, en vez de imitar la posición actual. Añadir y restar valores de la posición del mouse crea relaciones que quedan constantes, mientras que multiplicar y dividir estos valores crean relaciones visuales cambiantes entre la posición del mouse y los elementos en la pantalla. En el primero de los siguientes ejemplos, el circulo es directamente mapeado al cursor, en el segundo, números son sumados y restado de la posición del cursor para crear desfases, y en el tercero, usamos multiplicación y división para escalar los desfases.\n"
   ]
  },
  {
   "cell_type": "code",
   "execution_count": null,
   "metadata": {},
   "outputs": [],
   "source": [
    "from p5 import *\n",
    "\n",
    "def setup():\n",
    "   size(100, 100)\n",
    "   no_stroke()\n",
    "\n",
    "def draw():\n",
    "   background(126)\n",
    "   ellipse((mouse_x, mouse_y), 33, 33)\n",
    "\n",
    "if __name__ == '__main__':\n",
    "   run()\n"
    ]
  },
  {
   "cell_type": "markdown",
   "metadata": {},
   "source": [
    "<img src='imagenes/07_01_1.png' />"
    ]
  },
  {
   "cell_type": "code",
   "execution_count": null,
   "metadata": {},
   "outputs": [],
   "source": [
    "from p5 import *\n",
    "\n",
    "def setup():\n",
    "   size(100, 100)\n",
    "   no_stroke()\n",
    "\n",
    "def draw():\n",
    "   background(126)\n",
    "   ellipse((mouse_x, 16), 33, 33) # Circulo superior\n",
    "   ellipse((mouse_x+20, 50), 33, 33) # Circulo del medio\n",
    "   ellipse((mouse_x-20, 84), 33, 33) # Circulo inferior\n",
    "\n",
    "if __name__ == '__main__':\n",
    "   run()"
    ]
  },
  {
   "cell_type": "markdown",
   "metadata": {},
   "source": [
    "<p float='center'>",
    "<img src='imagenes/07_03_1.png' />",
    "<img src='imagenes/07_03_2.png' />",
    "</p>"
    ]
  },
  {
   "cell_type": "code",
   "execution_count": null,
   "metadata": {},
   "outputs": [],
   "source": [
    "from p5 import *\n",
    "\n",
    "def setup():\n",
    "   size(100, 100)\n",
    "   no_stroke()\n",
    "\n",
    "def draw():\n",
    "   background(126)\n",
    "   ellipse((mouse_x, 16), 33, 33) # Circulo superior\n",
    "   ellipse((mouse_x/2, 50), 33, 33) # Circulo del medio\n",
    "   ellipse((mouse_x*2, 84), 33, 33) # Circulo inferior\n",
    "\n",
    "if __name__ == '__main__':\n",
    "   run()"
    ]
  },
  {
   "cell_type": "markdown",
   "metadata": {},
   "source": [
   "<p float='center'>",
    "<img src='imagenes/07_04_1.png' />",
    "<img src='imagenes/07_04_2.png' />",
    "</p>"
    ]
  },
  {
   "cell_type": "markdown",
   "metadata": {},
   "source": [
   "Para invertir los valores del mouse, restamos el valor `mouse_x` del ancho de la ventana y restamos el valor `mouse_y` del alto de la ventana."
   ]
  },
  {
   "cell_type": "code",
   "execution_count": null,
   "metadata": {},
   "outputs": [],
   "source": [
    "from p5 import *\n",
    "\n",
    "def setup():\n",
    "   size(100, 100)\n",
    "   no_stroke()\n",
    "\n",
    "def draw():\n",
    "   background(126)\n",
    "   x = mouse_x\n",
    "   y = mouse_y\n",
    "   ix = width - mouse_x # Invertir X\n",
    "   iy = height - mouse_y # Invertir Y\n",
    "   background(126)\n",
    "   fill(255, 150)\n",
    "   ellipse((x, height/2), y, y)\n",
    "   fill(0, 159)\n",
    "   ellipse((ix, height/2), iy, iy)\n",
    "\n",
    "if __name__ == '__main__':\n",
    "   run()"
    ]
  },
  {
   "cell_type": "markdown",
   "metadata": {},
   "source": [
    "<p float='center'>",
    "<img src='imagenes/07_05_1.png' />",
    "<img src='imagenes/07_05_2.png' />",
    "</p>"
    ]
  },
  {
   "cell_type": "markdown",
   "metadata": {},
   "source": [
   "Las variables `pmouse_x` y `pmouse_y` de Processing almacenan los valores del mouse del cuadro (frame) anterior. Si el mouse no se mueve, los valores serán los mismos, pero si el mouse se está movimiento rápido va a haber una diferencia grande entre estos valores. Para ver la diferencia, corramos el siguiente programa y movamos el mouse lentamente y rápidamente. Vean los valores que se imprimen en la consola."
   ]
  },
  {
   "cell_type": "code",
   "execution_count": null,
   "metadata": {},
   "outputs": [],
   "source": [
    "def draw():\n",
    "   frame_rate(12)\n",
    "   print(pmouse_y - mouse_x)"
    ]
  },
  {
   "cell_type": "markdown",
   "metadata": {},
   "source": [
    "Dibujen una linea desde la posición previa del mouse a la actual para mostrar el cambio de dirección en un cuadro y revelar la velocidad y la dirección del mouse. Cuando el mouse no se está moviendo, un punto es dibujado, pero movimientos rápidos del mouse crean lineas largas.\n"
   ]
  },
  {
   "cell_type": "code",
   "execution_count": null,
   "metadata": {},
   "outputs": [],
   "source": [
    "from p5 import *\n",
    "\n",
    "def setup():\n",
    "   size(100, 100)\n",
    "   stroke_weight(8)\n",
    "\n",
    "def draw():\n",
    "   background(204)\n",
    "   line(mouse_x, mouse_y, pmouse_x, pmouse_y)\n",
    "\n",
    "if __name__ == '__main__':\n",
    "   run()"
    ]
  },
  {
   "cell_type": "markdown",
   "metadata": {},
   "source": [
    "<p float='center'>",
    "<img src='imagenes/07_07_1.png' />",
    "<img src='imagenes/07_07_2.png' />",
    "</p>"
   ]
  },
  {
   "cell_type": "markdown",
   "metadata": {},
   "source": [
    "Usen las variables `mouse_x` y `mouse_y` con una estructura if para permitir que el cursor seleccione regiones de la pantalla. Los siguientes ejemplos demuestran al cursor seleccionando diferentes areas de la ventana. El primero divide la pantalla en mitades, y el segundo en tercios."
   ]
  },
  {
   "cell_type": "code",
   "execution_count": null,
   "metadata": {},
   "outputs": [],
   "source": [
    "from p5 import *\n",
    "\n",
    "def setup():\n",
    "   size(100, 100)\n",
    "   no_stroke()\n",
    "   fill(0)\n",
    "\n",
    "def draw():\n",
    "   background(204)\n",
    "   if mouse_x < 50:\n",
    "      rect((0, 0), 50, 100)\n",
    "   else:\n",
    "      rect((50, 0), 50, 100)\n",
    "\n",
    "if __name__ == '__main__':\n",
    "   run()"
  ]
  },
  {
   "cell_type": "markdown",
   "metadata": {},
   "source": [
    "<p float='center'>",
    "<img src='imagenes/07_08_1.png' />",
    "<img src='imagenes/07_08_2.png' />",
    "</p>"
   ]
  },
  {
   "cell_type": "code",
   "execution_count": null,
   "metadata": {},
   "outputs": [],
   "source": [
    "from p5 import *\n",
    "\n",
    "def setup():\n",
    "   size(100, 100)\n",
    "   no_stroke()\n",
    "   fill(0)\n",
    "\n",
    "def draw():\n",
    "   background(204)\n",
    "   if mouse_x < 33:\n",
    "      rect((0, 0), 33, 100)\n",
    "   elif mouse_x < 66:\n",
    "      rect((33, 0), 33, 100)\n",
    "   else:\n",
    "      rect((66, 0), 33, 100)\n",
    "\n",
    "if __name__ == '__main__':\n",
    "   run()"
  ]
  },
  {
   "cell_type": "markdown",
   "metadata": {},
   "source": [
    "<p float='center'>",
    "<img src='imagenes/07_09_1.png' />",
    "<img src='imagenes/07_09_2.png' />",
    "<img src='imagenes/07_09_3.png' />",
    "</p>"
   ]
  },
  {
   "cell_type": "markdown",
   "metadata": {},
   "source": [
    "Usen los operadores lógicos `and` con una estructura `if` para seleccionar una región rectangular de la pantalla. Como es demostrado en el siguiente ejemplo, cuando se le pide a una expresión relacional que pruebe si cada punta del rectangulo (izquierda, derecha, arriba, abajo) y éstas están concatenadas con un operador `AND`, la expresión entera es verdadera solo cuando el cursor está dentro del rectangulo."
   ]
  },
  {
   "cell_type": "code",
   "execution_count": null,
   "metadata": {},
   "outputs": [],
   "source": [
    "from p5 import *\n",
    "\n",
    "def setup():\n",
    "   size(100, 100)\n",
    "   no_stroke()\n",
    "   fill(0)\n",
    "\n",
    "def draw():\n",
    "   background(204)\n",
    "   if ((mouse_x > 40) and (mouse_x < 80) and\n",
    "      (mouse_y > 20) and (mouse_y < 80)):\n",
    "      fill(255)\n",
    "   else:\n",
    "      fill(0)\n",
    "\n",
    "   rect((40, 20), 40, 60)\n",
    "\n",
    "if __name__ == '__main__':\n",
    "   run()"
  ]
  },
  {
   "cell_type": "markdown",
   "metadata": {},
   "source": [
    "<p float='center'>",
    "<img src='imagenes/07_10_1.png' />",
    "<img src='imagenes/07_10_2.png' />",
    "</p>"
   ]
  },
  {
   "cell_type": "markdown",
   "metadata": {},
   "source": [
    "Este código pregunta, 'está el cursor a la derecha del borde izquierda y está el cursor a la izquierda del borde derecha y está el cursor más allá del borde de arriba y está el cursor arriba del borde de abajo?' El código para nuestro próximo ejemplo nos pregunta una serie de preguntas similares y las combina con la palabra clave else para determinar cual de las areas definidas contiene el cursor. \n"
   ]
  },
  {
   "cell_type": "code",
   "execution_count": null,
   "metadata": {},
   "outputs": [],
   "source": [
    "from p5 import *\n",
    "\n",
    "def setup():\n",
    "   size(100, 100)\n",
    "   no_stroke()\n",
    "   fill(0)\n",
    "\n",
    "def draw():\n",
    "   background(204)\n",
    "   if (mouse_x <= 50) and (mouse_y <= 50):\n",
    "      rect((0, 0), 50, 50) # superior-izquierda\n",
    "   elif (mouse_x <= 50) and (mouse_y > 50):\n",
    "      rect((0, 50), 50, 50) # inferior-izquierda\n",
    "   elif (mouse_x > 50) and (mouse_y <= 50):\n",
    "      rect((50, 0), 50, 50) # superior-derecha\n",
    "   else:\n",
    "      rect((50, 50), 50, 50) # inferior-derecha\n",
    "\n",
    "if __name__ == '__main__':\n",
    "   run()"
  ]
  },
  {
   "cell_type": "markdown",
   "metadata": {},
   "source": [
    "<p float='center'>",
    "<img src='imagenes/07_11_1.png' />",
    "<img src='imagenes/07_11_2.png' />",
    "</p>"
   ]
  },
  {
   "cell_type": "markdown",
   "metadata": {},
   "source": [
    "## Botones del mouse\n",
    "Los mouse de computadoras tipicamente tienen entre uno y tres botones; Processing puede detectar cuando estos botones están presionados con las variables `mouse_is_pressed` y `mouse_button`. La posición del cursor junto con la habilidad de saber cuando el mouse está presionado nos permite hacer diferentes acciones. Por ejemplo, un botón presionado cuando el mouse está arriba de un ícono puede seleccionarlo, así el ícono puede ser transladado a un lugar diferente de la pantalla. La variable `mouse_is_pressed` es verdadera si cualquier botón del mouse es apretado y falsa cuando no hay ningún botón del mouse apretado. La variable `mouse_button` es LEFT, CENTER o RIGHT dependiendo en el botón del mouse que fue más recientemente apretado. La variable `mouse_is_pressed` se vuelve falsa apenas el botón se deja de apretar, pero la variable `mouse_button` mantiene su valor hasta que otro botón es apretado. Estas variables pueden ser usadas de forma independiente o en conjunto para controlar el software. Corran estos programas y vean como reaccionan.\n"
   ]
  },
  {
   "cell_type": "code",
   "execution_count": null,
   "metadata": {},
   "outputs": [],
   "source": [
    "from p5 import *\n",
    "\n",
    "def setup():\n",
    "   size(100, 100)\n",
    "\n",
    "\n",
    "def draw():\n",
    "   background(204)\n",
    "   if mouse_is_pressed:\n",
    "      fill(255)\n",
    "   else:\n",
    "      fill(0)\n",
    "   rect((25, 25), 50, 50)\n",
    "\n",
    "if __name__ == '__main__':\n",
    "   run()"
  ]
  },
  {
   "cell_type": "markdown",
   "metadata": {},
   "source": [
    "<p float='center'>",
    "<img src='imagenes/07_12_1.png' />",
    "<img src='imagenes/07_12_2.png' />",
    "</p>"
   ]
  },
  {
   "cell_type": "code",
   "execution_count": null,
   "metadata": {},
   "outputs": [],
   "source": [
    "from p5 import *\n",
    "\n",
    "def setup():\n",
    "   size(100, 100)\n",
    "\n",
    "def draw():\n",
    "   background(204)\n",
    "   if mouse_button == 'LEFT':\n",
    "      fill(0)\n",
    "   elif mouse_button == 'RIGHT':\n",
    "      fill(255)\n",
    "   else:\n",
    "      fill(126)\n",
    "\n",
    "   rect((25, 25), 50, 50)\n",
    "\n",
    "if __name__ == '__main__':\n",
    "   run()"
  ]
  },
  {
   "cell_type": "markdown",
   "metadata": {},
   "source": [
    "<p float='center'>",
    "<img src='imagenes/07_13_1.png' />",
    "<img src='imagenes/07_13_2tif.png' />",
    "<img src='imagenes/07_13_3.png' />",
    "</p>"
   ]
  },
  {
   "cell_type": "code",
   "execution_count": null,
   "metadata": {},
   "outputs": [],
   "source": [
    "from p5 import *\n",
    "\n",
    "def setup():\n",
    "   size(100, 100)\n",
    "\n",
    "def draw():\n",
    "   background(204)\n",
    "   if mouse_is_pressed:\n",
    "      if mouse_button == 'LEFT':\n",
    "         fill(0)\n",
    "      else:\n",
    "         fill(255)\n",
    "   else:\n",
    "      fill(126)\n",
    "\n",
    "   rect((25, 25), 50, 50)\n",
    "\n",
    "if __name__ == '__main__':\n",
    "   run()"
  ]
  },
  {
   "cell_type": "markdown",
   "metadata": {},
   "source": [
   "<p float='center'>",
    "<img src='imagenes/07_14_1.png' />",
    "<img src='imagenes/07_14_2.png' />",
    "<img src='imagenes/07_14_3.png' />",
    "</p>"
   ]
  },
  {
   "cell_type": "markdown",
   "metadata": {},
   "source": [
   "## Datos del teclado\n",
   "Processing registra la tecla que se apretó más recientemente y si hay una tecla que está siendo presionada en este momento. La variable booleana `key_is_pressed` es verdadera si una tecla está siendo apretada y es falsa cuando no. Incluyan esta variable en una estructura if para permitir que las lineas de código se ejecuten solo cuando una tecla es presionada. La variable `key_is_pressed` se mantiene verdadera mientras que la tecla sea sostenida en su posición presionada y solo se vuelve falsa cuando la tecla se suelta.\n"
   ]
  },
  {
   "cell_type": "code",
   "execution_count": null,
   "metadata": {},
   "outputs": [],
   "source": [
    "from p5 import *\n",
    "\n",
    "def setup():\n",
    "   size(100, 100)\n",
    "   stroke_weight(4)\n",
    "\n",
    "def draw():\n",
    "   background(204)\n",
    "\n",
    "   if key_is_pressed:\n",
    "      line((20, 20), (80, 80))\n",
    "   else:\n",
    "      rect((40, 40), 20, 20)\n",
    "\n",
    "if __name__ == '__main__':\n",
    "   run()\n"
  ]
  },
  {
   "cell_type": "markdown",
   "metadata": {},
   "source": [
   "<p float='center'>",
    "<img src='imagenes/07_15_1.png' />",
    "<img src='imagenes/07_15_2.png' />",
    "</p>"
   ]
  },
  {
   "cell_type": "code",
   "execution_count": null,
   "metadata": {},
   "outputs": [],
   "source": [
    "from p5 import *\n",
    "\n",
    "x = 20\n",
    "\n",
    "def setup():\n",
    "   size(100, 100)\n",
    "   stroke_weight(4)\n",
    "\n",
    "def draw():\n",
    "   background(204)\n",
    "\n",
    "   global x\n",
    "   if key_is_pressed:\n",
    "      x += 1\n",
    "\n",
    "   line((x, 20), (x-60, 80))\n",
    "\n",
    "if __name__ == '__main__':\n",
    "   run()\n"
  ]
  },
  {
   "cell_type": "markdown",
   "metadata": {},
   "source": [
   "<p float='center'>",
    "<img src='imagenes/07_16_1.png' />",
    "<img src='imagenes/07_16_2.png' />",
    "</p>"
   ]
  },
  {
   "cell_type": "markdown",
   "metadata": {},
   "source": [
    "La variable `key` almacena un solo caracter alfanumerico. Especificamente, almacena la tecla que se apretó por última vez. La tecla puede ser mostrada en la pantalla con la función `text()`\n"
   ]
  },
  {
   "cell_type": "code",
   "execution_count": null,
   "metadata": {},
   "outputs": [],
   "source": [
    "from p5 import *\n",
    "\n",
    "def setup():\n",
    "   size(100, 100)\n",
    "   text_size(60)\n",
    "\n",
    "def draw():\n",
    "   background(0)\n",
    "   text(key, 20, 75) # Draw at coordinate (20,75)\n",
    "\n",
    "if __name__ == '__main__':\n",
    "   run()\n"
  ]
  },
  {
   "cell_type": "markdown",
   "metadata": {},
   "source": [
   "<p float='center'>",
    "<img src='imagenes/07_17_1.png' />",
    "</p>"
   ]
  },
  {
   "cell_type": "markdown",
   "metadata": {},
   "source": [
    "La variable `key` puede ser usada para determinar si una tecla especifica fue apretada. En el próximo ejemplo usamos la expresión `key == 'A'` para ver si se apretó la tecla A. Usamos las comillas simples para aclarar que es un dato de tipo char. Si usaramos comillas dobles correriamos el riesgo de que se interprete como un string, y eso puede causar problemas ya que no es posible comparar un string a un char de forma directa. El operador lógico AND se usa para conectar la expresión con la variable `key_is_pressed` y ver si efectivamente se presionó la A mayúscula.\n"
   ]
  },
  {
   "cell_type": "code",
   "execution_count": null,
   "metadata": {},
   "outputs": [],
   "source": [
    "from p5 import *\n",
    "\n",
    "def setup():\n",
    "   size(100, 100)\n",
    "   stroke_weight(4)\n",
    "\n",
    "def draw():\n",
    "   background(204)\n",
    "   # Si la 'A' esta siendo apretada dibujame una linea\n",
    "   if key_is_pressed and key == 'A':\n",
    "      line((50, 25), (50, 75))\n",
    "   else: # Sino, dibuja un elipse\n",
    "      ellipse((50, 50), 50, 50)\n",
    "\n",
    "if __name__ == '__main__':\n",
    "   run()\n"
  ]
  },
  {
   "cell_type": "markdown",
   "metadata": {},
   "source": [
   "<p float='center'>",
    "<img src='imagenes/07_18_1.png' />",
    "<img src='imagenes/07_18_1.png' />",
    "</p>\n",
    "El ejemplo anterior solo funciona con la A mayúscula, pero no con la minúscula. ¿Cómo modificarían el código para que funcionara con la minúscula también?\n"
   ]
  }
 ],

 "metadata": {
  "kernelspec": {
   "display_name": "Python 3",
   "languedad": "python",
   "name": "python3"
  },
  "languedad_info": {
   "codemirror_mode": {
    "name": "ipython",
    "version": 3
   },
   "file_extension": ".py",
   "mimetype": "text/x-python",
   "name": "python",
   "nbconvert_exporter": "python",
   "pygments_lexer": "ipython3",
   "version": "3.5.4"
  }
 },
 "nbformat": 4,
 "nbformat_minor": 2
}
