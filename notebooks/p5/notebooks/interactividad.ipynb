{
 "cells": [
  {
   "cell_type": "markdown",
   "metadata": {},
   "source": [
    "# [Interactividad](https://p5.readthedocs.io/en/latest/tutorials/interactivity.html)"
   ]
  },
  {
   "cell_type": "markdown",
   "metadata": {},
   "source": [
    "## Interactividad\n",
    "La pantalla forma un puente entre nuestros cuerpos y el reino de los circuitos y electricidad dentro de las computadoras. Controlamos los elementos en una pantalla a través de una variedad de dispositivos como trackpads, joysticks y pantallas táctiles, pero el teclado y el mouse siguen siendo el dispositivo de entrada más común en las computadoras de escritorio. La historia del mouse de computadora empieza allá por los 60s, cuando Douglas Engelbart presento el dispositivo como un elemento del oN-Line System (NLS), una de los primeros sistemas de computadora con una pantalla de video. El concepto del mouse fue más desarrollado en el Xerox Palo Alto Research Center (PARC), pero su introducción con la Macintosh de Apple en 1984 fue el catalizador para su inmensa popularidad. El diseño del mouse fue cambiando a medida que pasaron los años, pero su función sigue siendo la misma. En la patente original de Engelbart de 1970 se refería al mouse como 'un indicador de posiciones X-Y', y esto sigue siendo correcto, pero define a secas su uso contemporaneo.\n",
    "\n",
    "El mouse como objeto fisico es usado para controlar la posición del cursor en la pantalla y seleccionar elementos de una interfaz. La posición del cursor es leída por un programa de computadora como dos numeros, la coordenada X y la coordenada Y. Estos números pueden ser usados para controlar atributos de los elementos en la pantalla. Si estas coordenadas son guardadas y analizadas, podemos extraer información de alto-nivel como la velocidad y la dirección del mouse. Estos datos a su vez pueden ser usados para gestos y reconocimiento de patrones.\n",
    "\n",
    "Los teclados son tipicamente usados para introducir caracteres y escribir documentos, emails, o mensajes de chat; pero el teclado tiene un potencial de uso que va más allá del que tuvo cuando fue originalmente concebido. La migración del teclado de una máquina de escribir a una computadora expandió su funcionalidad hasta permitirnos lanzar software, movernos a través de menus de aplicaciones, y navegar entornos 3D en videojuegos. Cuando escribimos nuestro propio software, tenemos la libertad de usar los datos del teclado de la forma que querramos. Por ejemplo, información básica como la velocidad y el ritmo de los dedos pueden ser determinados a partir de la frecuencia en la que las teclas son presionadas. Esta información puede controlar la velocidad de un evento o la precisión de un movimiento. También es posible ignorar los caracteres impresos en el teclado mismo y usar la ubicación de cada tecla como posiciones numericas.\n",
    "\n",
    "El teclado de computadora moderno es un descendiente directo de la máquina de escribir. La posición de las teclas son heredadas de las máquinas de escribir más antiguas. La distribución del teclado se llama QWERTY por el orden de las teclas de la fila de arriba.\n"
   ]
  },
  {
   "cell_type": "markdown",
   "metadata": {},
   "source": [
    "## Datos del mouse\n",
    "Las variables `mouse_x` y `mouse_y` de Processing almacenan las coordenadas X y las coordenadas Y del cursor relativo al origen de la esquina superior izquierda de la ventana. Para ver los valores que se producen cuando movemos el mouse, corran este programa para imprimir los valores en la consola:\n"
   ]
  },
  {
   "cell_type": "code",
   "execution_count": null,
   "metadata": {},
   "outputs": [],
   "source": [
    "def draw():\n",
    "    cuadro_rate(12)\n",
    "    print(mouse_x, ' : ', mouse_y)\n"
    ]
  },
  {
   "cell_type": "markdown",
   "metadata": {},
   "source": [
    "Cuando el programa inicie, las valores de `mouse_x` y `mouse_y` van a ser 0. Si el cursor se mueve dentro de la ventana, los valores van a ser la posición actual del cursor. Si el cursor está a la izquierda, el valor `mouse_x` es 0 y el valor aumenta a medida que el cursor se mueve a la derecha. Si el cursor está arriba, el valor de `mouse_y` es 0 y su valor aumenta a medida que el cursor se mueve para abajo. Si `mouse_x` y `mouse_y` son usados en programas sin `draw` o si `no_loop()` está dentro de `setup()`, los valores siempre van a ser 0. \n",
    "\n",
    "La posición del mouse es comunmente usada para controlar la ubicación de los elementos visuales en pantalla. Relaciones más interesantes pueden crearse cuando el elemento visual se relaciona de forma diferente según los valores del mouse, en vez de imitar la posición actual. Añadir y restar valores de la posición del mouse crea relaciones que quedan constantes, mientras que multiplicar y dividir estos valores crean relaciones visuales cambiantes entre la posición del mouse y los elementos en la pantalla. En el primero de los siguientes ejemplos, el circulo es directamente mapeado al cursor, en el segundo, números son sumados y restado de la posición del cursor para crear desfases, y en el tercero, usamos multiplicación y división para escalar los desfases.\n"
   ]
  },
  {
   "cell_type": "code",
   "execution_count": null,
   "metadata": {},
   "outputs": [],
   "source": [
    "from p5 import *\n",
    "\n",
    "def setup():\n",
    "   size(100, 100)\n",
    "   no_stroke()\n",
    "\n",
    "def draw():\n",
    "   background(126)\n",
    "   ellipse((mouse_x, mouse_y), 33, 33)\n",
    "\n",
    "if __name__ == '__main__':\n",
    "   run()\n"
    ]
  },
  {
   "cell_type": "markdown",
   "metadata": {},
   "source": [
    "<img src='imagenes/07_01_1.png' />"
    ]
  },
  {
   "cell_type": "code",
   "execution_count": null,
   "metadata": {},
   "outputs": [],
   "source": [
    "from p5 import *\n",
    "\n",
    "def setup():\n",
    "   size(100, 100)\n",
    "   no_stroke()\n",
    "\n",
    "def draw():\n",
    "   background(126)\n",
    "   ellipse((mouse_x, 16), 33, 33) # Circulo superior\n",
    "   ellipse((mouse_x+20, 50), 33, 33) # Circulo del medio\n",
    "   ellipse((mouse_x-20, 84), 33, 33) # Circulo inferior\n",
    "\n",
    "if __name__ == '__main__':\n",
    "   run()"
    ]
  },
  {
   "cell_type": "markdown",
   "metadata": {},
   "source": [
    "<p float='center'>",
    "<img src='imagenes/07_03_1.png' />",
    "<img src='imagenes/07_03_2.png' />",
    "</p>"
    ]
  },
  {
   "cell_type": "code",
   "execution_count": null,
   "metadata": {},
   "outputs": [],
   "source": [
    "from p5 import *\n",
    "\n",
    "def setup():\n",
    "   size(100, 100)\n",
    "   no_stroke()\n",
    "\n",
    "def draw():\n",
    "   background(126)\n",
    "   ellipse((mouse_x, 16), 33, 33) # Circulo superior\n",
    "   ellipse((mouse_x/2, 50), 33, 33) # Circulo del medio\n",
    "   ellipse((mouse_x*2, 84), 33, 33) # Circulo inferior\n",
    "\n",
    "if __name__ == '__main__':\n",
    "   run()"
    ]
  },
  {
   "cell_type": "markdown",
   "metadata": {},
   "source": [
   "<p float='center'>",
    "<img src='imagenes/07_04_1.png' />",
    "<img src='imagenes/07_04_2.png' />",
    "</p>"
    ]
  },
  {
   "cell_type": "markdown",
   "metadata": {},
   "source": [
   "Para invertir los valores del mouse, restamos el valor `mouse_x` del ancho de la ventana y restamos el valor `mouse_y` del alto de la ventana."
   ]
  },
  {
   "cell_type": "code",
   "execution_count": null,
   "metadata": {},
   "outputs": [],
   "source": [
    "from p5 import *\n",
    "\n",
    "def setup():\n",
    "   size(100, 100)\n",
    "   no_stroke()\n",
    "\n",
    "def draw():\n",
    "   background(126)\n",
    "   x = mouse_x\n",
    "   y = mouse_y\n",
    "   ix = width - mouse_x # Invertir X\n",
    "   iy = height - mouse_y # Invertir Y\n",
    "   background(126)\n",
    "   fill(255, 150)\n",
    "   ellipse((x, height/2), y, y)\n",
    "   fill(0, 159)\n",
    "   ellipse((ix, height/2), iy, iy)\n",
    "\n",
    "if __name__ == '__main__':\n",
    "   run()"
    ]
  },
  {
   "cell_type": "markdown",
   "metadata": {},
   "source": [
    "<p float='center'>",
    "<img src='imagenes/07_05_1.png' />",
    "<img src='imagenes/07_05_2.png' />",
    "</p>"
    ]
  },
  {
   "cell_type": "markdown",
   "metadata": {},
   "source": [
   "Las variables `pmouse_x` y `pmouse_y` de Processing almacenan los valores del mouse del cuadro (cuadro) anterior. Si el mouse no se mueve, los valores serán los mismos, pero si el mouse se está movimiento rápido va a haber una diferencia grande entre estos valores. Para ver la diferencia, corramos el siguiente programa y movamos el mouse lentamente y rápidamente. Vean los valores que se imprimen en la consola."
   ]
  },
  {
   "cell_type": "code",
   "execution_count": null,
   "metadata": {},
   "outputs": [],
   "source": [
    "def draw():\n",
    "   cuadro_rate(12)\n",
    "   print(pmouse_y - mouse_x)"
    ]
  },
  {
   "cell_type": "markdown",
   "metadata": {},
   "source": [
    "Dibujen una linea desde la posición previa del mouse a la actual para mostrar el cambio de dirección en un cuadro y revelar la velocidad y la dirección del mouse. Cuando el mouse no se está moviendo, un punto es dibujado, pero movimientos rápidos del mouse crean lineas largas.\n"
   ]
  },
  {
   "cell_type": "code",
   "execution_count": null,
   "metadata": {},
   "outputs": [],
   "source": [
    "from p5 import *\n",
    "\n",
    "def setup():\n",
    "   size(100, 100)\n",
    "   stroke_weight(8)\n",
    "\n",
    "def draw():\n",
    "   background(204)\n",
    "   line(mouse_x, mouse_y, pmouse_x, pmouse_y)\n",
    "\n",
    "if __name__ == '__main__':\n",
    "   run()"
    ]
  },
  {
   "cell_type": "markdown",
   "metadata": {},
   "source": [
    "<p float='center'>",
    "<img src='imagenes/07_07_1.png' />",
    "<img src='imagenes/07_07_2.png' />",
    "</p>"
   ]
  },
  {
   "cell_type": "markdown",
   "metadata": {},
   "source": [
    "Usen las variables `mouse_x` y `mouse_y` con una estructura if para permitir que el cursor seleccione regiones de la pantalla. Los siguientes ejemplos demuestran al cursor seleccionando diferentes areas de la ventana. El primero divide la pantalla en mitades, y el segundo en tercios."
   ]
  },
  {
   "cell_type": "code",
   "execution_count": null,
   "metadata": {},
   "outputs": [],
   "source": [
    "from p5 import *\n",
    "\n",
    "def setup():\n",
    "   size(100, 100)\n",
    "   no_stroke()\n",
    "   fill(0)\n",
    "\n",
    "def draw():\n",
    "   background(204)\n",
    "   if mouse_x < 50:\n",
    "      rect((0, 0), 50, 100)\n",
    "   else:\n",
    "      rect((50, 0), 50, 100)\n",
    "\n",
    "if __name__ == '__main__':\n",
    "   run()"
  ]
  },
  {
   "cell_type": "markdown",
   "metadata": {},
   "source": [
    "<p float='center'>",
    "<img src='imagenes/07_08_1.png' />",
    "<img src='imagenes/07_08_2.png' />",
    "</p>"
   ]
  },
  {
   "cell_type": "code",
   "execution_count": null,
   "metadata": {},
   "outputs": [],
   "source": [
    "from p5 import *\n",
    "\n",
    "def setup():\n",
    "   size(100, 100)\n",
    "   no_stroke()\n",
    "   fill(0)\n",
    "\n",
    "def draw():\n",
    "   background(204)\n",
    "   if mouse_x < 33:\n",
    "      rect((0, 0), 33, 100)\n",
    "   elif mouse_x < 66:\n",
    "      rect((33, 0), 33, 100)\n",
    "   else:\n",
    "      rect((66, 0), 33, 100)\n",
    "\n",
    "if __name__ == '__main__':\n",
    "   run()"
  ]
  },
  {
   "cell_type": "markdown",
   "metadata": {},
   "source": [
    "<p float='center'>",
    "<img src='imagenes/07_09_1.png' />",
    "<img src='imagenes/07_09_2.png' />",
    "<img src='imagenes/07_09_3.png' />",
    "</p>"
   ]
  },
  {
   "cell_type": "markdown",
   "metadata": {},
   "source": [
    "Usen los operadores lógicos `and` con una estructura `if` para seleccionar una región rectangular de la pantalla. Como es demostrado en el siguiente ejemplo, cuando se le pide a una expresión relacional que pruebe si cada punta del rectangulo (izquierda, derecha, arriba, abajo) y éstas están concatenadas con un operador `AND`, la expresión entera es verdadera solo cuando el cursor está dentro del rectangulo."
   ]
  },
  {
   "cell_type": "code",
   "execution_count": null,
   "metadata": {},
   "outputs": [],
   "source": [
    "from p5 import *\n",
    "\n",
    "def setup():\n",
    "   size(100, 100)\n",
    "   no_stroke()\n",
    "   fill(0)\n",
    "\n",
    "def draw():\n",
    "   background(204)\n",
    "   if ((mouse_x > 40) and (mouse_x < 80) and\n",
    "      (mouse_y > 20) and (mouse_y < 80)):\n",
    "      fill(255)\n",
    "   else:\n",
    "      fill(0)\n",
    "\n",
    "   rect((40, 20), 40, 60)\n",
    "\n",
    "if __name__ == '__main__':\n",
    "   run()"
  ]
  },
  {
   "cell_type": "markdown",
   "metadata": {},
   "source": [
    "<p float='center'>",
    "<img src='imagenes/07_10_1.png' />",
    "<img src='imagenes/07_10_2.png' />",
    "</p>"
   ]
  },
  {
   "cell_type": "markdown",
   "metadata": {},
   "source": [
    "Este código pregunta, 'está el cursor a la derecha del borde izquierda y está el cursor a la izquierda del borde derecha y está el cursor más allá del borde de arriba y está el cursor arriba del borde de abajo?' El código para nuestro próximo ejemplo nos pregunta una serie de preguntas similares y las combina con la palabra clave else para determinar cual de las areas definidas contiene el cursor. \n"
   ]
  },
  {
   "cell_type": "code",
   "execution_count": null,
   "metadata": {},
   "outputs": [],
   "source": [
    "from p5 import *\n",
    "\n",
    "def setup():\n",
    "   size(100, 100)\n",
    "   no_stroke()\n",
    "   fill(0)\n",
    "\n",
    "def draw():\n",
    "   background(204)\n",
    "   if (mouse_x <= 50) and (mouse_y <= 50):\n",
    "      rect((0, 0), 50, 50) # superior-izquierda\n",
    "   elif (mouse_x <= 50) and (mouse_y > 50):\n",
    "      rect((0, 50), 50, 50) # inferior-izquierda\n",
    "   elif (mouse_x > 50) and (mouse_y <= 50):\n",
    "      rect((50, 0), 50, 50) # superior-derecha\n",
    "   else:\n",
    "      rect((50, 50), 50, 50) # inferior-derecha\n",
    "\n",
    "if __name__ == '__main__':\n",
    "   run()"
  ]
  },
  {
   "cell_type": "markdown",
   "metadata": {},
   "source": [
    "<p float='center'>",
    "<img src='imagenes/07_11_1.png' />",
    "<img src='imagenes/07_11_2.png' />",
    "</p>"
   ]
  },
  {
   "cell_type": "markdown",
   "metadata": {},
   "source": [
    "## Botones del mouse\n",
    "Los mouse de computadoras tipicamente tienen entre uno y tres botones; Processing puede detectar cuando estos botones están presionados con las variables `mouse_is_pressed` y `mouse_button`. La posición del cursor junto con la habilidad de saber cuando el mouse está presionado nos permite hacer diferentes acciones. Por ejemplo, un botón presionado cuando el mouse está arriba de un ícono puede seleccionarlo, así el ícono puede ser transladado a un lugar diferente de la pantalla. La variable `mouse_is_pressed` es verdadera si cualquier botón del mouse es apretado y falsa cuando no hay ningún botón del mouse apretado. La variable `mouse_button` es LEFT, CENTER o RIGHT dependiendo en el botón del mouse que fue más recientemente apretado. La variable `mouse_is_pressed` se vuelve falsa apenas el botón se deja de apretar, pero la variable `mouse_button` mantiene su valor hasta que otro botón es apretado. Estas variables pueden ser usadas de forma independiente o en conjunto para controlar el software. Corran estos programas y vean como reaccionan.\n"
   ]
  },
  {
   "cell_type": "code",
   "execution_count": null,
   "metadata": {},
   "outputs": [],
   "source": [
    "from p5 import *\n",
    "\n",
    "def setup():\n",
    "   size(100, 100)\n",
    "\n",
    "\n",
    "def draw():\n",
    "   background(204)\n",
    "   if mouse_is_pressed:\n",
    "      fill(255)\n",
    "   else:\n",
    "      fill(0)\n",
    "   rect((25, 25), 50, 50)\n",
    "\n",
    "if __name__ == '__main__':\n",
    "   run()"
  ]
  },
  {
   "cell_type": "markdown",
   "metadata": {},
   "source": [
    "<p float='center'>",
    "<img src='imagenes/07_12_1.png' />",
    "<img src='imagenes/07_12_2.png' />",
    "</p>"
   ]
  },
  {
   "cell_type": "code",
   "execution_count": null,
   "metadata": {},
   "outputs": [],
   "source": [
    "from p5 import *\n",
    "\n",
    "def setup():\n",
    "   size(100, 100)\n",
    "\n",
    "def draw():\n",
    "   background(204)\n",
    "   if mouse_button == 'LEFT':\n",
    "      fill(0)\n",
    "   elif mouse_button == 'RIGHT':\n",
    "      fill(255)\n",
    "   else:\n",
    "      fill(126)\n",
    "\n",
    "   rect((25, 25), 50, 50)\n",
    "\n",
    "if __name__ == '__main__':\n",
    "   run()"
  ]
  },
  {
   "cell_type": "markdown",
   "metadata": {},
   "source": [
    "<p float='center'>",
    "<img src='imagenes/07_13_1.png' />",
    "<img src='imagenes/07_13_2tif.png' />",
    "<img src='imagenes/07_13_3.png' />",
    "</p>"
   ]
  },
  {
   "cell_type": "code",
   "execution_count": null,
   "metadata": {},
   "outputs": [],
   "source": [
    "from p5 import *\n",
    "\n",
    "def setup():\n",
    "   size(100, 100)\n",
    "\n",
    "def draw():\n",
    "   background(204)\n",
    "   if mouse_is_pressed:\n",
    "      if mouse_button == 'LEFT':\n",
    "         fill(0)\n",
    "      else:\n",
    "         fill(255)\n",
    "   else:\n",
    "      fill(126)\n",
    "\n",
    "   rect((25, 25), 50, 50)\n",
    "\n",
    "if __name__ == '__main__':\n",
    "   run()"
  ]
  },
  {
   "cell_type": "markdown",
   "metadata": {},
   "source": [
   "<p float='center'>",
    "<img src='imagenes/07_14_1.png' />",
    "<img src='imagenes/07_14_2.png' />",
    "<img src='imagenes/07_14_3.png' />",
    "</p>"
   ]
  },
  {
   "cell_type": "markdown",
   "metadata": {},
   "source": [
   "## Datos del teclado\n",
   "Processing registra la tecla que se apretó más recientemente y si hay una tecla que está siendo presionada en este momento. La variable booleana `key_is_pressed` es verdadera si una tecla está siendo apretada y es falsa cuando no. Incluyan esta variable en una estructura if para permitir que las lineas de código se ejecuten solo cuando una tecla es presionada. La variable `key_is_pressed` se mantiene verdadera mientras que la tecla sea sostenida en su posición presionada y solo se vuelve falsa cuando la tecla se suelta.\n"
   ]
  },
  {
   "cell_type": "code",
   "execution_count": null,
   "metadata": {},
   "outputs": [],
   "source": [
    "from p5 import *\n",
    "\n",
    "def setup():\n",
    "   size(100, 100)\n",
    "   stroke_weight(4)\n",
    "\n",
    "def draw():\n",
    "   background(204)\n",
    "\n",
    "   if key_is_pressed:\n",
    "      line((20, 20), (80, 80))\n",
    "   else:\n",
    "      rect((40, 40), 20, 20)\n",
    "\n",
    "if __name__ == '__main__':\n",
    "   run()\n"
  ]
  },
  {
   "cell_type": "markdown",
   "metadata": {},
   "source": [
   "<p float='center'>",
    "<img src='imagenes/07_15_1.png' />",
    "<img src='imagenes/07_15_2.png' />",
    "</p>"
   ]
  },
  {
   "cell_type": "code",
   "execution_count": null,
   "metadata": {},
   "outputs": [],
   "source": [
    "from p5 import *\n",
    "\n",
    "x = 20\n",
    "\n",
    "def setup():\n",
    "   size(100, 100)\n",
    "   stroke_weight(4)\n",
    "\n",
    "def draw():\n",
    "   background(204)\n",
    "\n",
    "   global x\n",
    "   if key_is_pressed:\n",
    "      x += 1\n",
    "\n",
    "   line((x, 20), (x-60, 80))\n",
    "\n",
    "if __name__ == '__main__':\n",
    "   run()\n"
  ]
  },
  {
   "cell_type": "markdown",
   "metadata": {},
   "source": [
   "<p float='center'>",
    "<img src='imagenes/07_16_1.png' />",
    "<img src='imagenes/07_16_2.png' />",
    "</p>"
   ]
  },
  {
   "cell_type": "markdown",
   "metadata": {},
   "source": [
    "La variable `key` almacena un solo caracter alfanumerico. Especificamente, almacena la tecla que se apretó por última vez. La tecla puede ser mostrada en la pantalla con la función `text()`\n"
   ]
  },
  {
   "cell_type": "code",
   "execution_count": null,
   "metadata": {},
   "outputs": [],
   "source": [
    "from p5 import *\n",
    "\n",
    "def setup():\n",
    "   size(100, 100)\n",
    "   text_size(60)\n",
    "\n",
    "def draw():\n",
    "   background(0)\n",
    "   text(key, 20, 75) # Draw at coordinate (20,75)\n",
    "\n",
    "if __name__ == '__main__':\n",
    "   run()\n"
  ]
  },
  {
   "cell_type": "markdown",
   "metadata": {},
   "source": [
   "<p float='center'>",
    "<img src='imagenes/07_17_1.png' />",
    "</p>"
   ]
  },
  {
   "cell_type": "markdown",
   "metadata": {},
   "source": [
    "La variable `key` puede ser usada para determinar si una tecla especifica fue apretada. En el próximo ejemplo usamos la expresión `key == 'A'` para ver si se apretó la tecla A. Usamos las comillas simples para aclarar que es un dato de tipo char. Si usaramos comillas dobles correriamos el riesgo de que se interprete como un string, y eso puede causar problemas ya que no es posible comparar un string a un char de forma directa. El operador lógico AND se usa para conectar la expresión con la variable `key_is_pressed` y ver si efectivamente se presionó la A mayúscula.\n"
   ]
  },
  {
   "cell_type": "code",
   "execution_count": null,
   "metadata": {},
   "outputs": [],
   "source": [
    "from p5 import *\n",
    "\n",
    "def setup():\n",
    "   size(100, 100)\n",
    "   stroke_weight(4)\n",
    "\n",
    "def draw():\n",
    "   background(204)\n",
    "   # Si la 'A' esta siendo apretada dibujame una linea\n",
    "   if key_is_pressed and key == 'A':\n",
    "      line((50, 25), (50, 75))\n",
    "   else: # Sino, dibuja un elipse\n",
    "      ellipse((50, 50), 50, 50)\n",
    "\n",
    "if __name__ == '__main__':\n",
    "   run()\n"
  ]
  },
  {
   "cell_type": "markdown",
   "metadata": {},
   "source": [
   "<p float='center'>",
    "<img src='imagenes/07_18_1.png' />",
    "<img src='imagenes/07_18_1.png' />",
    "</p>\n",
    "El ejemplo anterior solo funciona con la A mayúscula, pero no con la minúscula. ¿Cómo modificarían el código para que funcionara con la minúscula también?\n"
   ]
  },
 {
   "cell_type": "markdown",
   "metadata": {},
   "source": [
    "## Teclas especiales\n",
    "Además de ser capaces de leer los valores de las teclas para números, letras y simbolos, Processing también nos deja leer los valores de otras teclas incluyendo las flechas de dirección, Alt, Ctrl, Shift, Retroceso, Tab, Enter, Escape, etc. La variable `keyCode` almacena las teclas ALT, CONTROL, SHIFT, UP, DOWN, LEFT y RIGHT como constantes. Antes de determinar cual tecla es apretada, es necesario fijarse si la tecla es especial o no.\n"
   ]
  },
  {
   "cell_type": "code",
   "execution_count": null,
   "metadata": {},
   "outputs": [],
   "source": [
    "from p5 import *\n",
    "\n",
    "y = 35\n",
    "\n",
    "def setup():\n",
    "    size(100, 100)\n",
    "\n",
    "def draw():\n",
    "    global y\n",
    "    background(204)\n",
    "    line((10, 50), (90, 50))\n",
    "\n",
    "    if key == 'UP':\n",
    "        y = 20\n",
    "    elif key == 'DOWN':\n",
    "        y = 50\n",
    "    else:\n",
    "        y = 35\n",
    "\n",
    "    rect((25, y), 50, 30)\n",
    "\n",
    "if __name__ == '__main__':\n",
    "    run()\n"
  ]
  },
  {
   "cell_type": "markdown",
   "metadata": {},
   "source": [
   "<p float='center'>",
    "<img src='imagenes/07_21_1.png' />",
    "<img src='imagenes/07_21_2.png' />",
    "<img src='imagenes/07_21_3.png' />",
    "</p>"
   ]
  },
 {
   "cell_type": "markdown",
   "metadata": {},
   "source": [
    "## Eventos\n",
    "Los eventos son una categoria de funciones que alteran el flujo normal de un programa cuando una acción como presionar una tecla o mover el mouse ocurre. Las presiones de teclas y los movimientos de mouse son guardados hasta el final de `draw()`, donde pueden tomar acción sin molestar a lo que se está dibujando en ese momento. El código dentro de una función evento es ejecutado cada vez que el evento que corresponde ocurre. Por ejemplo, si un botón del mouse es apretado, el código dentro de la función `mouse_pressed()` va a ejecutarse una vez y no va a ejecutarse de vuelta hasta que el botón sea presionado nuevamente. Esto permite que los datos producidos por el mouse y el teclado sean leidos independientemente de lo que pasa en el resto del programa.\n"
   ]
  },
 {
   "cell_type": "markdown",
   "metadata": {},
   "source": [
    "## Eventos de mouse\n",
    "Las funciones evento para el mouse son las siguientes: `mouse_pressed()`, `mouse_released()`, `mouse_moved()` y `mouse_dragged()`.\n",
    "* `mouse_pressed()`: El código dentro de este bloque se ejecuta una vez que un botón del mouse es apretado.\n",
    "* `mouse_released()`: El código dentro de este bloque se ejecuta una vez que un botón del mouse es soltado.\n",
    "* `mouse_moved()`: El código dentro de este bloque se ejecuta una vez que un botón del mouse es movido.\n",
    "* `mouse_dragged()`: El código dentro de este bloque se ejecuta una vez que un botón del mouse se mantiene apretado mientras se mueve.\n",
    "\n",
    "La función `mouse_pressed()` funciona diferente que la variable `mouse_is_pressed`. El valor de la variable `mouse_is_pressed` es verdadero hasta que el botón del mouse es soltado. Por lo que puede usarse dentro de `draw()` para ejecutar una linea de código cuando el mouse es apretado. En contraste, el código dentro de la función `mouse_pressed()` solo se ejecuta una vez cuando el botón es apretado. Esto lo hace útil para cuando un click del mouse es usado para una acción especifica, como limpiar la pantalla. En el ejemplo siguiente, el color de fondo se hace más claro cada vez que el botón del mouse es presionado.\n"
   ]
  },
  {
   "cell_type": "code",
   "execution_count": null,
   "metadata": {},
   "outputs": [],
   "source": [
    "from p5 import *\n",
    "\n",
    "gris = 0\n",
    "\n",
    "def setup():\n",
    "   size(100, 100)\n",
    "\n",
    "def draw():\n",
    "   background(gris)\n",
    "\n",
    "def mouse_pressed():\n",
    "   global gris\n",
    "   gris += 20\n",
    "\n",
    "if __name__ == '__main__':\n",
    "   run()\n"
  ]
  },
  {
   "cell_type": "markdown",
   "metadata": {},
   "source": [
   "<p float='center'>",
    "<img src='imagenes/07_22_1.png' />",
    "<img src='imagenes/07_22_2.png' />",
    "</p>"
   ]
  },
  {
   "cell_type": "markdown",
   "metadata": {},
   "source": [
    "El siguiente ejemplo es el mismo que el de arriba, pero la variable `gris` se establece en la función de evento `mouse_released()`, que es llamada siempre que un botón es soltado. Esta diferencia solo puede ser vista corriendo el programa y apretando el boton del mouse.\n"
    ]
  },
    {
   "cell_type": "code",
   "execution_count": null,
   "metadata": {},
   "outputs": [],
   "source": [
    "from p5 import *\n",
    "\n",
    "gris = 0\n",
    "\n",
    "def setup():\n",
    "   size(100, 100)\n",
    "\n",
    "def draw():\n",
    "   background(gris)\n",
    "\n",
    "def mouse_released():\n",
    "   global gris\n",
    "   gris += 20\n",
    "\n",
    "if __name__ == '__main__':\n",
    "   run()\n"
  ]
  },
  {
   "cell_type": "markdown",
   "metadata": {},
   "source": [
   "<p float='center'>",
    "<img src='imagenes/07_23_1.png' />",
    "<img src='imagenes/07_23_2.png' />",
    "</p>"
   ]
  },
    {
   "cell_type": "markdown",
   "metadata": {},
   "source": [
    "Por lo general no es una buena idea dibujar dentro de una función de evento, pero puede hacerse bajo ciertas condiciones. Antes de dibujar dentro de estas funciones, es importante pensar en como 'fluye' el programa. En este ejemplo, cuadrados son dibujados dentro de `mouse_pressed()` y se mantienen en la pantalla porque no hay ningún `background()` dentro de `draw()`. Pero si `background()` es usado, los elementos visuales dibujados dentro de una de las funciones de evento del mouse van a aparecer solo por un cuadro, o, por defecto, 1/60 de segundo. De hecho, van a notar que este ejemplo no tiene nada dentro de `draw()`, pero necesitamos que esté ahí para que la librería siga escuchando los eventos. Si una función `background()` fuera ejecutada dentro de `draw()`, los rectangulos aparecerían en la pantalla para solo desaparecer inmediatamente después.\n"
    ]
  },
    {
   "cell_type": "code",
   "execution_count": null,
   "metadata": {},
   "outputs": [],
   "source": [
    "from p5 import *\n",
    "\n",
    "def setup():\n",
    "   size(100, 100)\n",
    "   fill(0, 102)\n",
    "\n",
    "def draw():\n",
    "   # El draw() vacio hace que el programa siga ejecutandose\n",
    "   pass\n",
    "\n",
    "def mouse_pressed():\n",
    "   rect((mouse_x, mouse_y), 33, 33)\n",
    "\n",
    "if __name__ == '__main__':\n",
    "   run()\n"
  ]
  },
  {
   "cell_type": "markdown",
   "metadata": {},
   "source": [
   "<p float='center'>",
    "<img src='imagenes/07_24_1.png' />",
    "<img src='imagenes/07_24_2.png' />",
    "</p>"
   ]
  },
    {
   "cell_type": "markdown",
   "metadata": {},
   "source": [
    "El código dentro de las funciones de evento `mouse_moved()` y `mouse_dragged()` son ejecutadas cuando hay un cambio en la posición del mouse. El código dentro del bloque `mouse_moved()` se ejecuta al final de cada cuadro cuando el mouse se mueve y ningún botón es presionado. El código dentro del bloque de `mouse_dragged()` hace lo mismo pero cuando un botón del mouse es presionado. Si el mouse se mantiene en la misma posición cuadro a cuadro, el código dentro de estas funciones no se ejecuta. En este ejemplo, el circulo gris sigue al mouse cuando el botón no está siendo presionado, y el circulo negro sigue al mouse cuando un botón si está siendo presionado.\n"
    ]
  },
    {
   "cell_type": "code",
   "execution_count": null,
   "metadata": {},
   "outputs": [],
   "source": [
    "from p5 import *\n",
    "\n",
    "arrastreX, arrastreY, moverX, moverY = (0, 0, 0, 0)\n",
    "\n",
    "def setup():\n",
    "   size(100, 100)\n",
    "   no_stroke()\n",
    "\n",
    "def draw():\n",
    "   background(204)\n",
    "   fill(0)\n",
    "\n",
    "   ellipse((arrastreX, arrastreY), 33, 33) # Circulo negro\n",
    "   fill(153)\n",
    "   ellipse((moverX, moverY), 33, 33) # Circulo gris\n",
    "\n",
    "def mouse_moved():\n",
    "   moverX = mouse_x\n",
    "   moverY = mouse_y\n",
    "\n",
    "def mouse_dragged():\n",
    "   arrastreX = mouse_x\n",
    "   arrastreY = mouse_y\n",
    "\n",
    "if __name__ == '__main__':\n",
    "   run()\n"
  ]
  },
  {
   "cell_type": "markdown",
   "metadata": {},
   "source": [
   "<p float='center'>",
    "<img src='imagenes/07_25_1.png' />",
    "<img src='imagenes/07_25_2.png' />",
    "<img src='imagenes/07_25_3.png' />",
    "</p>"
   ]
  },
    {
   "cell_type": "markdown",
   "metadata": {},
   "source": [
    "## Eventos de teclas\n",
    "Cada vez que una tecla es presionada, las funciones `key_pressed()` y `key_released()` lo registran:\n",
    "* `key_pressed()`: El código dentro de este bloque se ejecuta una vez cuando cualquier tecla es presionada. \n",
    "* `key_released`: El código dentro de este bloque se ejecuta una vez cuando cualquier tecla se suelta. \n",
    "\n",
    "Dentro del bloque `key_pressed()` es posible determinar cual tecla fue presionada y usar ese valor para lo que querramos. Si una tecla es presionada por un tiempo extendido, el código dentro del bloque `key_pressed()` va a ejecutarse varias veces de forma rápida. ¿Qué tan rápido? Eso dependerá de la computadora que estés usando, puede varíar dependiendo las características. En este ejemplo, los valores de la variable booleana `dibujarT` se establece como `true` una vez que la tecla T es apretada, esto causa que el bloque de código de `draw()` se empiece a ejecutar.\n"
    ]
  },
    {
   "cell_type": "code",
   "execution_count": null,
   "metadata": {},
   "outputs": [],
   "source": [
    "from p5 import *\n",
    "\n",
    "dibujarT = False\n",
    "\n",
    "def setup():\n",
    "   size(100, 100)\n",
    "   no_stroke()\n",
    "\n",
    "def draw():\n",
    "   background(204)\n",
    "\n",
    "   global dibujarT\n",
    "   if dibujarT:\n",
    "      rect((20, 20), 60, 20)\n",
    "      rect((39, 40), 22, 45)\n",
    "\n",
    "\n",
    "def key_pressed():\n",
    "   global dibujarT\n",
    "   if key == 'T' or key == 't':\n",
    "      dibujarT = True\n",
    "\n",
    "if __name__ == '__main__':\n",
    "   run()\n"
  ]
  },
  {
   "cell_type": "markdown",
   "metadata": {},
   "source": [
   "<p float='center'>",
    "<img src='imagenes/07_26_1.png' />",
    "<img src='imagenes/07_26_2.png' />",
    "</p>"
   ]
  },
    {
   "cell_type": "markdown",
   "metadata": {},
   "source": [
    "## Flujo de eventos\n",
    "Como discutimos antes, los programas que contienen un bloque `draw()` muestran 60 cuadros por cada segundo en pantalla. El parámetro `cuadro_rate` puede pasarse a la función `run()` para limitar el número de cuadros que se mostrarán cada segundo, y la función `no_loop()` puede ser usada para hacer que `draw()` deje de iterar. Las funciones adicionales `loop()` y `redraw()` proveen más opciones que podemos usar en combinación con las funciones de eventos de teclado y mouse. Si un programa fue pausado con la función `no_loop()`, ejecutando la función `loop()` resumirá su acción. Porque las funciones de evento son los únicos elementos que continuan ejecutandose cuando el programa fue pausado con `no_loop()`, la función `loop()` puede ser usada dentro de estos eventos para continuar con la ejecución de `draw()`. Piensen, ¿donde se les ocurre que podrían usar esta funcionalidad dentro de un juego? \n"
    ]
  },
    {
   "cell_type": "code",
   "execution_count": null,
   "metadata": {},
   "outputs": [],
   "source": [
    "from p5 import *\n",
    "\n",
    "cuadro = 0\n",
    "\n",
    "def setup():\n",
    "   size(100, 100)\n",
    "\n",
    "def draw():\n",
    "   global cuadro\n",
    "   if cuadro > 120: #  Si pasaron 120 cuadros desde que\n",
    "      no_loop() # se movio el mouse, detenemos el programa\n",
    "      background(0) # y hacemos el fondo negro.\n",
    "   else:\n",
    "      background(204) # fondo gris claro y dibujamos lineas\n",
    "      line((mouse_x, 0), (mouse_x, 100)) # en las posiciones del mouse\n",
    "      line((0, mouse_y), (100, mouse_y))\n",
    "      cuadro += 1\n",
    "\n",
    "def mouse_pressed():\n",
    "   global cuadro\n",
    "   loop()\n",
    "   cuadro = 0\n",
    "\n",
    "if __name__ == '__main__':\n",
    "   run()\n"
  ]
  }
 ],

 "metadata": {
  "kernelspec": {
   "display_name": "Python 3",
   "languedad": "python",
   "name": "python3"
  },
  "languedad_info": {
   "codemirror_mode": {
    "name": "ipython",
    "version": 3
   },
   "file_extension": ".py",
   "mimetype": "text/x-python",
   "name": "python",
   "nbconvert_exporter": "python",
   "pygments_lexer": "ipython3",
   "version": "3.5.4"
  }
 },
 "nbformat": 4,
 "nbformat_minor": 2
}
