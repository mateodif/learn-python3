{
 "cells": [
  {
   "cell_type": "markdown",
   "metadata": {},
   "source": [
    "# [Color](https://p5.readthedocs.io/en/latest/tutorials/color.html)"
   ]
  },
  {
   "cell_type": "markdown",
   "metadata": {},
   "source": [
    "## Color\n",
    "En el mundo digital, cuando queremos hablar de un color, se requiere de precisión. Decir 'Che, podes hacer que ese circulo sea azul verdoso?' no va a ser suficiente. En vez de eso, el color es definido como un rango de numeros. Vamos a empezar con el caso más simple: blanco y negro, o escala de grises. `0` significa negro, `255` significa blanco. Entre esos dos, cualquier otro numero - 50, 87, 162, 209, etc - es un tono de gris yendo desde el negro al blanco.",
    "<img src='imagenes/grayscale.png' width='400' />"
   ]
  },
  {
   "cell_type": "markdown",
   "metadata": {},
   "source": [
    "### Nota sobre el color y su representación digital\n",
    "El color para una determinada figura necesita ser almacenado en la memoria de la computadora. Esta memoria es solo una secuencia larga de 0s y 1s (una bocha de interruptores encendidos y apagados). Cada uno de estos interruptores es un bit, ocho de ellos juntos es un byte. Imaginen si tuvieramos ocho bits (un byte) en una secuencia - ¿cuantas maneras hay de configurar esos interruptores? La respuesta es 256 posibilidades, o el rango desde el 0 al 255. Vamos a usar color de ocho bits para nuestra escala de grises y 24 bits para color completo (ocho bits para el rojo, verde, y azul)."
   ]
  },
  {
   "cell_type": "markdown",
   "metadata": {},
   "source": [
    "Añadiendo las funciones `p5.stroke()` y `p5.fill()` antes de que algo se dibuje, podemos establecer el color de cualquier figura. También tenemos la función `p5.background()` que nos establece el color de fondo para la ventana. Acá hay un ejemplo:",
   ]
  },
  {
   "cell_type": "code",
   "execution_count": null,
   "metadata": {},
   "outputs": [],
   "source": [
    "from p5 import *\n"
    "def draw():\n"
    "    background(255)\n"
    "    stroke(0)\n"
    "    fill(150)\n"
    "    rect((50, 50), 75, 100)\n"
    "\n"
    "if __name__ == '__main__':\n"
    "    run()\n"
    ]
  },
  {
   "cell_type": "markdown",
   "metadata": {},
   "source": [
    "La idea sería darnos cuenta que la pantalla de la computadora no es más que una hoja cuadriculada cheta. Cada pixel de la pantalla es una coordenada - dos numeros, uno 'x' (horizontal) y otro 'y' (vertical) - que determina el lugar de un punto en el espacio. Y es nuestro trabajo especificar que figuras y colores van a aparecer en esas coordenadas.",
    "Sin embargo, hay una trampa. El sistema de coordenadas que nos enseñaron en la escuela (sistema cartesiano) ubica al (0,0) en el centro del eje y apuntando para arriba y el eje x apuntando a la derecha (en la dirección positiva, en la negativa para abajo y para la izquierda). El sistema de coordenadas para los pixeles de una pantalla de computadora, sin embargo, están al revés en el eje y. El (0,0) se puede encontrar arriba a la izquierda con la dirección positiva a la derecha horizontalmente y abajo verticalmente.",
    "<img src='imagenes/drawing-03.png' width='400' />"
   ]
  },
  {
   "cell_type": "markdown",
   "metadata": {},
   "source": [
    "## Figuras simples\n",
    "La mayoria de los ejemplos de programación que van a ver con Processing son visuales por naturaleza. Estos ejemplos, en su núcleo, involucran dibujar figuras y establecer pixeles. Vamos a empezar viendo las cuatro figuras primitivas.",
    "<img src='imagenes/drawing-04.png' width='400' />"

    ]
  },
  {
   "cell_type": "markdown",
   "metadata": {},
   "source": [
    "Por cada figura, vamos a preguntarnos que información es requerida para especificar la ubicación y tamaño (y después color) de esa figura y aprenderemos como Processing espera recibir esa información. En los diagramas de abajo, vamos a asumir que el tamaño de nuestra ventana va a ser de 10 pixeles de alto por 10 pixeles de ancho. Esto no es particularmente realista ya que cuando empecemos a programar probablemente vamos a trabajar con ventanas mucho más grandes (10x10 pixeles son apenas unos milimitros del tamaño de la pantalla). Sin embargo, para propositos demostrativos, es bueno trabajar con numeros chicos para ilustrar mejor y de forma más sencilla.",
    "Un `point()` es la figura más sencilla de todas y un buen lugar donde empezar. Para dibujar un punto, solo necesitamos unas coordenadas x e y.",
    "<img src='imagenes/drawing-05.png' width='400' />"

   ]
  },
  {
   "cell_type": "markdown",
   "metadata": {},
   "source": [
    "Una `line()` no es terriblemente dificil tampoco y solo requiere dos puntos: (x1,y1) y (x2,y2):",
    "<img src='imagenes/drawing-06.png' width='400' />"
   ]
  },
  {
   "cell_type": "markdown",
   "metadata": {},
   "source": [
    "Una vez que llegamos al dibujar los `rect()`, las cosas se complican un poco. En Processing, un rectangulo es descripto por las coordenadas para su esquina superior izquierda, además de su ancho y altura.",
    "<img src='imagenes/drawing-07.png' width='400' />"
   ]
  },
  {
   "cell_type": "markdown",
   "metadata": {},
   "source": [
    "Una segunda manera de dibujar un rectangulo involucra especificar el punto medio, además de su ancho y altura. Si preferimos este metodo, primero debemos indicar que queremos usar el modo 'CENTER' antes de usar la función para el rectángulo en sí. Ojo que Processing es sensible a las mayusculas, igual que Python.",
    "<img src='imagenes/drawing-08.png' width='400' />"
   ]
  },
  {
   "cell_type": "markdown",
   "metadata": {},
   "source": [
    "Finalmente, podemos dibujar un rectángulo con dos puntos (uno para la esquina superior izquierda y uno para la esquina inferior derecha). El modo acá es 'CORNERS'.",
    "<img src='imagenes/drawing-09.png' width='400' />"
   ]
  },
  {
   "cell_type": "markdown",
   "metadata": {},
   "source": [
    "Una vez que estemos mas comodos con el concepto de dibujar un rectangulo, dibujar un `ellipse()` es facilisimo. De hecho, es identico a `rect()` la diferencia siendo que un elipse es dibujado donde los limites del rectangulo estarían. El modo por defecto para ellipse() es 'CENTER', en vez de 'CORNER'.",
    "<img src='imagenes/drawing-10.png' width='400' />",
    "<img src='imagenes/drawing-11.png' width='400' />",
    "<img src='imagenes/drawing-12.png' width='400' />"
   ]
  },
  {
   "cell_type": "markdown",
   "metadata": {},
   "source": [
    "Es importante destacar que estos elipses no se ven particularmente circulares. Processing tiene una metodologia integrada para seleccionar que pixeles deberían ser usados para crear una forma circular. Con el zoom al mango como está aca, obtenemos un puñado de cuadrados en un patrón quasi-circular, pero sin zoom, tendremos un lindo elipse redondo. Processing también nos da el poder de desarrollar nuestros propios algoritmos para colorear pixeles individuales (de hecho, ya podemos imaginar como podríamos hacer esto usando `point` una y otra vez), pero por ahora, nos quedamos satisfechos con dejar que `ellipse` haga todo el laburo.",
    "Ahora veamos lo que un poco de código con figuras puede lograr en un ambiente mas realista, con una ventana de 200x200. Noten el uso de la función `size()` para especificar el ancho y alto de la ventana."
   ]
  },
  {
   "cell_type": "code",
   "execution_count": null,
   "metadata": {},
   "outputs": [],
   "source": [
    "size(200,200)\n",
    "rectMode('CENTER')\n",
    "rect((100,100),20,100)\n",
    "ellipse((100,70),60,60)\n",
    "ellipse((81,70),16,32)\n",
    "ellipse((119,70),16,32)\n",
    "line((90,150),(80,160))\n",
    "line((110,150),(120,160))\n"
   ]
  },
  {
   "cell_type": "markdown",
   "metadata": {},
   "source": [
    "<img src='imagenes/dibujito.jpg' width='400' />"
   ]
  }
 ],
 "metadata": {
  "kernelspec": {
   "display_name": "Python 3",
   "languedad": "python",
   "name": "python3"
  },
  "languedad_info": {
   "codemirror_mode": {
    "name": "ipython",
    "version": 3
   },
   "file_extension": ".py",
   "mimetype": "text/x-python",
   "name": "python",
   "nbconvert_exporter": "python",
   "pygments_lexer": "ipython3",
   "version": "3.5.4"
  }
 },
 "nbformat": 4,
 "nbformat_minor": 2
}
