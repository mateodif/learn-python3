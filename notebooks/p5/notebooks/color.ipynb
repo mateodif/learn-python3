{
 "cells": [
  {
   "cell_type": "markdown",
   "metadata": {},
   "source": [
    "# [Color](https://p5.readthedocs.io/en/latest/tutorials/color.html)"
   ]
  },
  {
   "cell_type": "markdown",
   "metadata": {},
   "source": [
    "## Color\n",
    "En el mundo digital, cuando queremos hablar de un color, se requiere de precisión. Decir 'Che, podes hacer que ese circulo sea azul verdoso?' no va a ser suficiente. En vez de eso, el color es definido como un rango de numeros. Vamos a empezar con el caso más simple: blanco y negro, o escala de grises. `0` significa negro, `255` significa blanco. Entre esos dos, cualquier otro numero - 50, 87, 162, 209, etc - es un tono de gris yendo desde el negro al blanco.\n",
    "<img src='imagenes/grayscale.svg' width='400' />\n"
   ]
  },
  {
   "cell_type": "markdown",
   "metadata": {},
   "source": [
    "### Nota sobre el color y su representación digital\n",
    "El color para una determinada figura necesita ser almacenado en la memoria de la computadora. Esta memoria es solo una secuencia larga de 0s y 1s (una bocha de interruptores encendidos y apagados). Cada uno de estos interruptores es un bit, ocho de ellos juntos es un byte. Imaginen si tuvieramos ocho bits (un byte) en una secuencia - ¿cuantas maneras hay de configurar esos interruptores? La respuesta es 256 posibilidades, o el rango desde el 0 al 255. Vamos a usar color de ocho bits para nuestra escala de grises y 24 bits para color completo (ocho bits para el rojo, verde, y azul).\n"
   ]
  },
  {
   "cell_type": "markdown",
   "metadata": {},
   "source": [
    "Añadiendo las funciones `p5.stroke()` y `p5.fill()` antes de que algo se dibuje, podemos establecer el color de cualquier figura. También tenemos la función `p5.background()` que nos establece el color de fondo para la ventana. Acá hay un ejemplo:\n"
   ]
  },
  {
   "cell_type": "code",
   "execution_count": null,
   "metadata": {},
   "outputs": [],
   "source": [
    "from p5 import *\n",
    "\n",
    "def draw():\n",
    "    background(255)\n",
    "    stroke(0)\n",
    "    fill(150)\n",
    "    rect((50, 50), 75, 100)\n",
    "\n",
    "if __name__ == '__main__':\n",
    "    run()\n"
    ]
  },
  {
   "cell_type": "markdown",
   "metadata": {},
   "source": [
    "<img src='imagenes/background-beispiel.png' width='400' />\n"
   ]
  },
  {
   "cell_type": "markdown",
   "metadata": {},
   "source": [
    "El trazo o el relleno pueden ser eliminados con las funciones: `p5.no_stroke()` y `p5.no_fill()`. Nuestro instinto nos podría decir que `stroke(0)` sirve para no tener trazo, sin embargo, es importante recordar que 0 no es 'nada', sino que simboliza el color negro. También, recuerden no eliminar ambos - con `no_stroke` y `no_fill`, porque no va a aparecer nada!\n",
    "Vale destacar que, si dibujamos dos figuras, p5 va a usar el trazo y relleno que se especifico por última vez, leyendo el código de arriba para abajo.\n",
    "<img src='imagenes/order.svg' width='400' />\n"
    ]
  },
  {
   "cell_type": "markdown",
   "metadata": {},
   "source": [
    "## Color RGB\n",
    "Recuerdan cuando pintaban con los dedos? Mezclando los tres colores 'primarios', podíamos obtener cualquier color. Mezclar todos los colores al mismo tiempo terminaba siendo un marrón medio raro. Mientras más pintura añadías, más oscuro se ponía. Los colores digitales también son construidos mezclando los tres colores primarios, pero funcionan diferente que la pintura. Primero, los primarios son diferentes: rojo, verde y azul (de ahí 'RGB'). Y con el color en la pantalla, están mezclando luz, no pintura, así que las reglas son diferentes también.\n",
    "<img src='imagenes/rgb.jpg' width='400' />\n",
    "\n",
    "* Rojo + Verde = Amarillo\n",
    "* Rojo + Azul = Purpura\n",
    "* Verde + Azul = Cian (azul verdoso)\n",
    "* Rojo + Verde + Azul = Blanco\n",
    "* Ningún color = Negro"
   ]
  },
  {
   "cell_type": "markdown",
   "metadata": {},
   "source": [
    "Esto asume que los colores son tan brillantes como se pueda, pero obviamente tenemos un rango de color disponible, por ejemplo un poco de rojo más un poco de verde más un poco de azul nos da gris, y un poco de rojo más un poco de azul nos da purpura oscuro. Puede que nos cueste acostumbrarnos, pero mientras más programemos y experimentemos con color RGB, más intuitivo será, al igual de como era cuando lo haciamos con nuestros dedos. Y por supuesto no podemos decir 'mezclame un toque de rojo con un poquito de azul', sino que van a tener que indicar la cantidad exacta.\n",
    "En cuanto a la escala de grises, el color individual del elemento son expresados como rangos desde el 0 (nada de ese color) hasta el 255 (lo más posible), y están listados en orden R, G, y B.\n"
   ]
  },
  {
   "cell_type": "code",
   "execution_count": null,
   "metadata": {},
   "outputs": [],
   "source": [
    "from p5 import *\n",
    "\n",
    " def draw():\n",
    "     background(255)\n",
    "     no_stroke()\n",
    "\n",
    "     # bright red\n",
    "     fill(255, 0, 0)\n",
    "     circle((72, 72), 58)\n",
    "\n",
    "     # dark red\n",
    "     fill(127, 0, 0)\n",
    "     circle((144, 72), 58)\n",
    "\n",
    "     # Pink (pale red)\n",
    "     fill(255, 200, 200)\n",
    "     circle((216, 72), 58)\n",
    "\n",
    " if __name__ == '__main__':\n",
    "     run()\n"
    ]
  },
  {
   "cell_type": "markdown",
   "metadata": {},
   "source": [
    "<img src='imagenes/example_1_3.png' width='400' />\n"
   ]
  },
  {
   "cell_type": "markdown",
   "metadata": {},
   "source": [
    "## Transparencia de colores\n",
    "Además de los componentes rojo, verde y azul de cada color, tenemos un cuarto componente adicional y opcional, al que nos referimos como el 'alpha' del color. Alpha significa transparencia y es particularmente útil cuando querramos dibujar dos elementos o más elementos, uno arriba del otro, y que se pueda ver a través de ellos (translúcidos). También se les dice 'canal alpha' a los valores alpha de una imagen.\n",
    "\n",
    "Es importante darnos cuenta que los pixeles no son literalmente transparentes, sino que es una simple ilusión optica que se aplica mezclando colores. Atrás de escena, Processing toma el número del color y añade un porcentaje de uno al porcentaje de otro, haciendo que lo percibamos como 'transparente'.\n",
    "Los valores Alpha van del 0 al 255, donde 0 es totalmente transparente (0% opaco) y 255 complementamente opaco (100% opaco).\n"
   ]
  },
  {
   "cell_type": "code",
   "execution_count": null,
   "metadata": {},
   "outputs": [],
   "source": [
    "from p5 import *\n",
    "\n",
    "def setup():\n",
    "    size(200, 200)\n",
    "    no_stroke()\n",
    "\n",
    "def draw():\n",
    "    background(0)\n",
    "\n",
    "    # Si no hay cuarto argumento, significa 100% opaco.\n",
    "    fill(0, 0, 255)\n",
    "    rect((0, 0), 100, 200)\n",
    "\n",
    "    # 255 significa 100% opaco.\n",
    "    fill(255, 0, 0, 255)\n",
    "    rect((0, 0), 200, 40)\n",
    "\n",
    "    # 75% opaco.\n",
    "    fill(255, 0, 0, 191)\n",
    "    rect((0, 50), 200, 40)\n",
    "\n",
    "    # 55% opaco.\n",
    "    fill(255, 0, 0, 127)\n",
    "    rect((0, 100), 200, 40)\n",
    "\n",
    "    # 25% opaco.\n",
    "    fill(255, 0, 0, 63)\n",
    "    rect((0, 150), 200, 40)\n",
    "\n",
    "if __name__ == '__main__':\n",
    "    run()\n"
    ]
  },
  {
   "cell_type": "markdown",
   "metadata": {},
   "source": [
    "<img src='imagenes/example_1_4.png' width='400' />\n"
   ]
  },
  {
   "cell_type": "markdown",
   "metadata": {},
   "source": [
    "## Rangos de color personalizados\n",
    "Los colores RGB con rangos del 0 al 255 no son la única forma de manejar colores en Processing. Atrás de escena en la memoria de la computadora, el color es hablado como una serie de 24 bits (o 32 en el caso de colores con un alpha). Sin embargo, Processing nos deja pensar los colores de cualquier forma que nos plazca, y traduce nuestros valores a numeros que la computadora entiende. Por ejemplo, capaz prefieren pensar el color como un rango del 0 al 100 (como un porcentaje). Pueden hacer eso usando el modo personalizado `p5.color_mode()`.\n"
   ]
  },
  {
   "cell_type": "code",
   "execution_count": null,
   "metadata": {},
   "outputs": [],
   "source": [
    "color_mode('RGB', 100)\n"
   ]
  },
  {
   "cell_type": "markdown",
   "metadata": {},
   "source": [
   "La función de arriba dice: 'OK, quiero pensar los colores en terminos de rojo, verde y azul. El rango de los valores van a ser del 0 al 100'.\n",
   "\n",
   "Aunque rara vez es conveniente hacerlo, también podemos tener diferentes rangos para cada componente de color:\n"
   ]
  },
  {
   "cell_type": "code",
   "execution_count": null,
   "metadata": {},
   "outputs": [],
   "source": [
    "color_mode('RGB', 100, 500, 10, 255)\n"
   ]
  },
  {
   "cell_type": "markdown",
   "metadata": {},
   "source": [
    "Ahora estamos diciendo 'Los valores del rojo van del 0 al 100, los del verde del 0 al 500, los del azul del 0 al 10 y los del alpha del 0 al 255'.\n",
    "\n",
    "Finalmente, aunque probablemente solo necesiten el color RGB para sus necesidades de programación, pueden también especificar colores en el modo HSB (tono, saturación y brillo). Sin ir muy en detalle, así funciona el color HSB:\n",
    "<img src='imagenes/hsb.png' width='400' />\n",
    "\n",
    "* Hue (tono) - El tipo de color, va del 0 al 255 por defecto.\n",
    "* Saturation (saturación) - La viveza del color, va del 0 al 255 por defecto.\n",
    "* Brightness (brillo) - El, bueno, brillo del color, va del 0 al 255 por defecto.\n",
    "\n",
    "Con `p5.color_mode()` pueden establecer sus propios rangos para estos valores. Algunos prefieren el rango 0-360 para el tono (como un circulo) y 0-100 para la saturación y el brillo (como 0-100%).\n"
   ]
  }
 ],
 "metadata": {
  "kernelspec": {
   "display_name": "Python 3",
   "languedad": "python",
   "name": "python3"
  },
  "languedad_info": {
   "codemirror_mode": {
    "name": "ipython",
    "version": 3
   },
   "file_extension": ".py",
   "mimetype": "text/x-python",
   "name": "python",
   "nbconvert_exporter": "python",
   "pygments_lexer": "ipython3",
   "version": "3.5.4"
  }
 },
 "nbformat": 4,
 "nbformat_minor": 2
}
